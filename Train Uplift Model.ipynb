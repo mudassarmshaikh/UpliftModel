{
 "cells": [
  {
   "cell_type": "markdown",
   "id": "f90b6803",
   "metadata": {},
   "source": [
    "## Campaign Conversion Target with Uplift Modeling"
   ]
  },
  {
   "cell_type": "markdown",
   "id": "6b212a5a",
   "metadata": {},
   "source": [
    "Uplift modeling, also known as incrementality modeling or persuasion modeling, models the causal effect of a treatment on the outcome for different individuals. Uplift modeling has been widely applied in marketing, personalized medicine, and political elections, scenarios in which you don’t simply want to predict an outcome, but predict how that outcome might change with respect to a treatment.<br>\n",
    "\n",
    "*Uplift modeling is an important yet novel area of research in machine learning which aims to explain and to estimate the causal impact of a treatment at the individual level.*"
   ]
  },
  {
   "cell_type": "markdown",
   "id": "e7b765c2",
   "metadata": {},
   "source": [
    "<img src=\"uplift-treatmentvsresponse.jpg\" alt=\"Uplift Model-TreatmentvsResponse\" title=\"Uplift Model - Treatment vs Response\" style=\"width: 400px;\"/>"
   ]
  },
  {
   "cell_type": "markdown",
   "id": "32d6adcf",
   "metadata": {},
   "source": [
    "In the digital advertising industry, the treatment is exposure to different ads and uplift modeling is used to direct marketing efforts towards users for whom it is the most efficient. One of the main applications of the Machine Learning models is to improve Targeted Marketing. Targeted Marketing is used to select the customers that most likely buy a product.\n",
    "\n",
    "There are different approaches for Targeted Marketing such as the Classical modeling (also known as Response model). This approach is focused on training a model with customers that were sent a promotion/offer. The model separates the customers that will buy from the ones that will not buy if targeted. This approach generates higher profit than random selection targeting.\n",
    "\n",
    "Classical modeling has a flaw. It does not separate customers that will buy even if not targeted from the ones that will only buy if targeted. In other words, the model wastes money by targeting customers that do not need it. The current solution to that issue is the Uplift modeling.\n",
    "\n",
    "Uplift modeling can separate customers that will buy if not targeted from the ones that will buy only if targeted, as well as avoiding customers that will not buy even if targeted. Specifically, the model identifies the customers that are worth spending money on Targeted Marketing.\n"
   ]
  },
  {
   "cell_type": "markdown",
   "id": "503b248d",
   "metadata": {},
   "source": [
    "> **When should we use uplift modeling?**<br>\n",
    "Uplift modeling is used when the customer’s target action is likely to happen without any communication. For instance, we want to promote a popular product but we don’t want to spend our marketing budget on customers who will buy the product anyway with or without communication. If the product is not popular and it has to be promoted to be bought, then a task turns to the response modeling task\n",
    "\n",
    "> The Uplift model evaluates the net effect of communication by trying to select only those customers who are going to perform the target action only when there is some advertising exposure presenting to them. The model predicts a difference between the customer’s behavior when there is a treatment (communication) and when there is no treatment (no communication)."
   ]
  },
  {
   "cell_type": "markdown",
   "id": "abb06177",
   "metadata": {},
   "source": [
    "<font color=blue>\n",
    "Uplift modeling, also known as incremental modeling, true lift modeling, or net modeling is a predictive modeling technique that directly models the incremental impact of a treatment (such as a direct marketing action) on an individual's behavior.\n",
    "\n",
    "\n",
    "The goal of uplift modeling, also known as net lift or incremental response modeling, \n",
    "- is to identify the “persuadables”, \n",
    "- not waste efforts on “sure things” and “lost causes”, \n",
    "- and avoid bothering “sleeping dogs”, or those who would react negatively to the treatment, if they exist.\n",
    "\n",
    "\n",
    "Let's generate a model that can identify users that are more likely to convert (or buy the product) and avoid the ones that are not.\n",
    "</font>"
   ]
  },
  {
   "cell_type": "markdown",
   "id": "731a5161",
   "metadata": {},
   "source": [
    "### Uplift modeling using Advertising Data"
   ]
  },
  {
   "cell_type": "markdown",
   "id": "b3741c0a",
   "metadata": {},
   "source": [
    "We are working with a dataset that is constructed by assembling data resulting from several incrementality tests, a particular randomized trial procedure where a random part of the population is prevented from being targeted by advertising. It consists of 13M rows, each one representing a user with 11 features, a treatment indicator and 2 labels (visits and conversions).\n",
    "\n",
    "> **Dataset source**\n",
    "https://ailab.criteo.com/criteo-uplift-prediction-dataset/ <br>\n",
    "The dataset is a collection of 13 million samples from a randomized control trial, scaling up previously available datasets by a healthy 590x factor. <br>\n",
    "The data was provided by AI lab of Criteo (French advertising company that provides online display advertisements). The data contains 13 million instances from a randomized control trial collected in two weeks, where 84.6% of the users where sent the treatment.\n",
    "\n",
    "Each instance has 12 features that were anonymized plus a treatment variable and two target variables (visits and conversion). There is another extra variable called \"exposure\" which indicates whether the user was effectively exposed to the treatment.\n",
    "The dataset consists of 13M rows, each one representing a user with 12 features, a treatment indicator and 2 binary labels (visits and conversions). Positive labels mean the user visited/converted on the advertiser website during the test period (2 weeks). The global treatment ratio is 84.6%. It is usual that advertisers keep only a small control population as it costs them in potential revenue.\n",
    "Following is a detailed description of the features:\n",
    " - f0, f1, f2, f3, f4, f5, f6, f7, f8, f9, f10, f11: feature values (dense, float)\n",
    " - treatment: treatment group (1 = treated, 0 = control)\n",
    " - conversion: whether a conversion occurred for this user (binary, label)\n",
    " - visit: whether a visit occurred for this user (binary, label)\n",
    " - exposure: treatment effect, whether the user has been effectively exposed (binary)"
   ]
  },
  {
   "cell_type": "markdown",
   "id": "d8f0ace7",
   "metadata": {},
   "source": [
    "<font color=red>\n",
    "There are two target variables (visits and conversion), this notebook will only focus on the conversion variable, which can be understood as the indicator whether the user bought the product. <br>\n",
    "The goal is to generate a model that can identify users that are more likely to convert (or buy the product) and avoid the ones that are not.\n",
    "</font>"
   ]
  },
  {
   "cell_type": "markdown",
   "id": "fb1dcc8d",
   "metadata": {},
   "source": [
    "Import the necessary libraries that we will use "
   ]
  },
  {
   "cell_type": "code",
   "execution_count": 1,
   "id": "9b1e009e",
   "metadata": {},
   "outputs": [
    {
     "name": "stderr",
     "output_type": "stream",
     "text": [
      "C:\\Program Files\\Python310\\lib\\site-packages\\xgboost\\compat.py:36: FutureWarning: pandas.Int64Index is deprecated and will be removed from pandas in a future version. Use pandas.Index with the appropriate dtype instead.\n",
      "  from pandas import MultiIndex, Int64Index\n"
     ]
    }
   ],
   "source": [
    "#EDA\n",
    "import numpy as np \n",
    "import pandas as pd \n",
    "import matplotlib.pyplot as plt\n",
    "import seaborn as sns\n",
    "import matplotlib as mpl\n",
    "import matplotlib.pyplot as plt\n",
    "import matplotlib.style as style\n",
    "\n",
    "#Preprocessing\n",
    "from sklearn import preprocessing\n",
    "from sklearn.model_selection import train_test_split\n",
    "from sklearn.metrics import accuracy_score\n",
    "from sklearn.model_selection import cross_val_score\n",
    "from sklearn.model_selection import RepeatedStratifiedKFold\n",
    "\n",
    "from imblearn.pipeline import Pipeline\n",
    "\n",
    "#Machine Learning\n",
    "from sklearn.linear_model import LogisticRegression\n",
    "from causallift import CausalLift\n",
    "import xgboost\n",
    "import lightgbm as lgb\n",
    "from lightgbm import LGBMClassifier\n",
    "\n",
    "#Evaluation\n",
    "from sklearn.model_selection import RepeatedStratifiedKFold\n",
    "from sklearn.model_selection import GridSearchCV\n",
    "\n",
    "#Uplift\n",
    "from sklift.models import TwoModels\n",
    "from sklift.models import SoloModel\n",
    "from sklift.models import ClassTransformation\n",
    "from sklift.metrics import qini_auc_score\n",
    "from sklift.viz import plot_qini_curve\n",
    "from sklift.viz import plot_uplift_curve\n",
    "from sklift.viz import plot_uplift_by_percentile\n",
    "\n",
    "import warnings\n",
    "warnings.simplefilter(action='ignore', category=FutureWarning)\n",
    "%matplotlib inline"
   ]
  },
  {
   "cell_type": "markdown",
   "id": "f30df2fa",
   "metadata": {},
   "source": [
    "#### Data Analysis"
   ]
  },
  {
   "cell_type": "code",
   "execution_count": 2,
   "id": "63be10a9",
   "metadata": {},
   "outputs": [],
   "source": [
    "#Read the dataset\n",
    "df = pd.read_csv(\"criteo-uplift-data.csv\")"
   ]
  },
  {
   "cell_type": "code",
   "execution_count": 3,
   "id": "fb0d22f5",
   "metadata": {},
   "outputs": [
    {
     "data": {
      "text/html": [
       "<div>\n",
       "<style scoped>\n",
       "    .dataframe tbody tr th:only-of-type {\n",
       "        vertical-align: middle;\n",
       "    }\n",
       "\n",
       "    .dataframe tbody tr th {\n",
       "        vertical-align: top;\n",
       "    }\n",
       "\n",
       "    .dataframe thead tr th {\n",
       "        text-align: left;\n",
       "    }\n",
       "\n",
       "    .dataframe thead tr:last-of-type th {\n",
       "        text-align: right;\n",
       "    }\n",
       "</style>\n",
       "<table border=\"1\" class=\"dataframe\">\n",
       "  <thead>\n",
       "    <tr>\n",
       "      <th></th>\n",
       "      <th></th>\n",
       "      <th></th>\n",
       "      <th colspan=\"3\" halign=\"left\">conversion</th>\n",
       "    </tr>\n",
       "    <tr>\n",
       "      <th></th>\n",
       "      <th></th>\n",
       "      <th></th>\n",
       "      <th>mean</th>\n",
       "      <th>sum</th>\n",
       "      <th>count</th>\n",
       "    </tr>\n",
       "    <tr>\n",
       "      <th>treatment</th>\n",
       "      <th>exposure</th>\n",
       "      <th>visit</th>\n",
       "      <th></th>\n",
       "      <th></th>\n",
       "      <th></th>\n",
       "    </tr>\n",
       "  </thead>\n",
       "  <tbody>\n",
       "    <tr>\n",
       "      <th rowspan=\"2\" valign=\"top\">0</th>\n",
       "      <th rowspan=\"2\" valign=\"top\">0</th>\n",
       "      <th>0</th>\n",
       "      <td>0.000000</td>\n",
       "      <td>0</td>\n",
       "      <td>2016832</td>\n",
       "    </tr>\n",
       "    <tr>\n",
       "      <th>1</th>\n",
       "      <td>0.050721</td>\n",
       "      <td>4063</td>\n",
       "      <td>80105</td>\n",
       "    </tr>\n",
       "    <tr>\n",
       "      <th rowspan=\"4\" valign=\"top\">1</th>\n",
       "      <th rowspan=\"2\" valign=\"top\">0</th>\n",
       "      <th>0</th>\n",
       "      <td>0.000000</td>\n",
       "      <td>0</td>\n",
       "      <td>11055129</td>\n",
       "    </tr>\n",
       "    <tr>\n",
       "      <th>1</th>\n",
       "      <td>0.034259</td>\n",
       "      <td>13680</td>\n",
       "      <td>399314</td>\n",
       "    </tr>\n",
       "    <tr>\n",
       "      <th rowspan=\"2\" valign=\"top\">1</th>\n",
       "      <th>0</th>\n",
       "      <td>0.000000</td>\n",
       "      <td>0</td>\n",
       "      <td>250702</td>\n",
       "    </tr>\n",
       "    <tr>\n",
       "      <th>1</th>\n",
       "      <td>0.129745</td>\n",
       "      <td>23031</td>\n",
       "      <td>177510</td>\n",
       "    </tr>\n",
       "  </tbody>\n",
       "</table>\n",
       "</div>"
      ],
      "text/plain": [
       "                         conversion                 \n",
       "                               mean    sum     count\n",
       "treatment exposure visit                            \n",
       "0         0        0       0.000000      0   2016832\n",
       "                   1       0.050721   4063     80105\n",
       "1         0        0       0.000000      0  11055129\n",
       "                   1       0.034259  13680    399314\n",
       "          1        0       0.000000      0    250702\n",
       "                   1       0.129745  23031    177510"
      ]
     },
     "execution_count": 3,
     "metadata": {},
     "output_type": "execute_result"
    }
   ],
   "source": [
    "#Given the treatment, exposure and visits, how is the conversion?\n",
    "df.groupby(['treatment','exposure','visit']).agg({'conversion':['mean','sum','count']})"
   ]
  },
  {
   "cell_type": "markdown",
   "id": "2c2529a6",
   "metadata": {},
   "source": [
    "**Observation**<br>\n",
    "Rate of conversion among untreated (treatment=0) and unexposed (exposed=0) candidates is higher (5%) than the <br>\n",
    "rate of conversion among treated (treatment=1) but unexposed (exposed=1), viz (3%).<br>\n",
    "Rate of conversion among treated (treatment=1) and exposed (exposed=1) candidates is the highest (12.9%).<br>\n",
    "\n",
    "<font color='red'>\n",
    "This clearly outlines the fact that the treatment is ineffective if candidates are treated to the campaign but are not effectively exposed to it.\n",
    "</font>"
   ]
  },
  {
   "cell_type": "markdown",
   "id": "71da5c25",
   "metadata": {},
   "source": [
    "**Our model is more effective when conversion rates are modeled on exposed candidates.**<br>\n",
    "Let's drop candidates who are treated but not effective exposed."
   ]
  },
  {
   "cell_type": "code",
   "execution_count": 4,
   "id": "665df632",
   "metadata": {},
   "outputs": [],
   "source": [
    "users_to_remove = df[(df['treatment'] == 1 ) & (df['exposure']==0)]\n",
    "\n",
    "#New df where treatment column is dropped\n",
    "df_ml = df.drop(users_to_remove.index).reset_index().drop(['index','treatment', 'visit'], axis = 1)"
   ]
  },
  {
   "cell_type": "code",
   "execution_count": 5,
   "id": "a3bfd680",
   "metadata": {},
   "outputs": [
    {
     "data": {
      "text/plain": [
       "<AxesSubplot:>"
      ]
     },
     "execution_count": 5,
     "metadata": {},
     "output_type": "execute_result"
    },
    {
     "data": {
      "image/png": "[encoded data removed]",
      "text/plain": [
       "<Figure size 720x432 with 1 Axes>"
      ]
     },
     "metadata": {
      "needs_background": "light"
     },
     "output_type": "display_data"
    }
   ],
   "source": [
    "df_ml.plot.box(figsize=(10,6))"
   ]
  },
  {
   "cell_type": "markdown",
   "id": "2b8d5f20",
   "metadata": {},
   "source": [
    "#### For effective modeling, let's scale the feature set"
   ]
  },
  {
   "cell_type": "code",
   "execution_count": 6,
   "id": "3da73fc9",
   "metadata": {},
   "outputs": [],
   "source": [
    "#Scale the feature set\n",
    "scaled = preprocessing.StandardScaler()\n",
    "df_sca = scaled.fit_transform(df_ml.drop(['conversion','exposure'], axis=1))\n",
    "\n",
    "#df_sca = pd.DataFrame(data=scaled, columns = df_ml.drop(['conversion','exposure'], axis = 1).columns)\n",
    "df_exposure = df_ml['exposure']\n",
    "df_conversion = df_ml['conversion']"
   ]
  },
  {
   "cell_type": "markdown",
   "id": "b1922526",
   "metadata": {},
   "source": [
    "#### Exposed flag is our new Treatment indicator"
   ]
  },
  {
   "cell_type": "code",
   "execution_count": 7,
   "id": "e147c139",
   "metadata": {},
   "outputs": [],
   "source": [
    "X=pd.DataFrame(df_sca.tolist())\n",
    "treatment = df_ml['exposure']\n",
    "y = df_ml['conversion']"
   ]
  },
  {
   "cell_type": "markdown",
   "id": "c74a2721",
   "metadata": {},
   "source": [
    "#### Let's look at our scaled features"
   ]
  },
  {
   "cell_type": "code",
   "execution_count": 8,
   "id": "6ecd14f8",
   "metadata": {},
   "outputs": [
    {
     "data": {
      "text/plain": [
       "<AxesSubplot:>"
      ]
     },
     "execution_count": 8,
     "metadata": {},
     "output_type": "execute_result"
    },
    {
     "data": {
      "image/png": "[encoded data removed]",
      "text/plain": [
       "<Figure size 720x432 with 1 Axes>"
      ]
     },
     "metadata": {
      "needs_background": "light"
     },
     "output_type": "display_data"
    }
   ],
   "source": [
    "X.plot.box(figsize=(10,6))"
   ]
  },
  {
   "cell_type": "markdown",
   "id": "14d0e002",
   "metadata": {},
   "source": [
    "#### Split dataset into a Train & Test set, stratified over Treatment (i.e. Exposed flag)"
   ]
  },
  {
   "cell_type": "code",
   "execution_count": 9,
   "id": "60176f95",
   "metadata": {},
   "outputs": [],
   "source": [
    "X_train, X_test, treatment_train, treatment_test, y_train, y_test = train_test_split(X,treatment,y, random_state=23, stratify=treatment, test_size=0.33)"
   ]
  },
  {
   "cell_type": "markdown",
   "id": "e03e516b",
   "metadata": {},
   "source": [
    "#### scikit-uplift"
   ]
  },
  {
   "cell_type": "markdown",
   "id": "79a4e3fc",
   "metadata": {},
   "source": [
    "scikit-uplift (sklift) is an uplift modeling python package that provides fast sklearn-style models implementation, evaluation metrics and visualization tools.\n",
    "<br>\n",
    "The main idea is to provide easy-to-use and fast python package for uplift modeling. It delivers the model interface with the familiar scikit-learn API. One can use any popular estimator (for instance, from the Catboost library).\n",
    "<br>\n",
    "Uplift modeling estimates a causal effect of treatment and uses it to effectively target customers that are most likely to respond to a marketing campaign."
   ]
  },
  {
   "cell_type": "markdown",
   "id": "83ec1854",
   "metadata": {},
   "source": [
    "### Implementing Two Model Approach"
   ]
  },
  {
   "cell_type": "markdown",
   "id": "bb8805eb",
   "metadata": {},
   "source": [
    "The main idea is to estimate the conditional probabilities of the treatment and control groups separately.\n",
    "\n",
    "Train the first model using the treatment set.\n",
    "\n",
    "Train the second model using the control set.\n",
    "\n",
    "Inference: subtract the control model scores from the treatment model scores."
   ]
  },
  {
   "cell_type": "markdown",
   "id": "7a966b3e",
   "metadata": {},
   "source": [
    "<img src=\"uplift-2model-calc.jpg\" alt=\"Uplift Model-TwoModelCalc\" title=\"Uplift Model - Two Model Approach\" style=\"width: 500px;\"/>"
   ]
  },
  {
   "cell_type": "markdown",
   "id": "91d54de8",
   "metadata": {},
   "source": [
    "###### Hyperparameter tuning was applied using GridSearchCV on multiple models, to conclude optimum performance with Logistic Regression."
   ]
  },
  {
   "cell_type": "code",
   "execution_count": 10,
   "id": "e5ca2b8d",
   "metadata": {},
   "outputs": [],
   "source": [
    "treatment_model = LogisticRegression(C= 0.00001, penalty= 'elasticnet', solver= 'saga', l1_ratio=0.1, random_state=23)\n",
    "control_model = LogisticRegression(C= 0.00001, penalty= 'elasticnet', solver= 'saga', l1_ratio=0.1, random_state=23)\n",
    "LogReg = TwoModels(estimator_trmnt = treatment_model, estimator_ctrl = control_model, method='vanilla')"
   ]
  },
  {
   "cell_type": "code",
   "execution_count": 11,
   "id": "785b4a74",
   "metadata": {},
   "outputs": [
    {
     "name": "stdout",
     "output_type": "stream",
     "text": [
      "Qini coefficient on full data: 0.7089\n"
     ]
    }
   ],
   "source": [
    "logreg_tm = LogReg.fit(X_train, y_train, treatment_train)\n",
    "uplift_logreg = logreg_tm.predict(X_test)\n",
    "# AUQC = area under Qini curve = Qini coefficient\n",
    "auqc = qini_auc_score(y_test, uplift_logreg, treatment_test) \n",
    "print(f\"Qini coefficient on full data: {auqc:.4f}\")"
   ]
  },
  {
   "cell_type": "markdown",
   "id": "cb7ad8a1",
   "metadata": {},
   "source": [
    "#### Plot the Qini Curve to show uplift"
   ]
  },
  {
   "cell_type": "code",
   "execution_count": 12,
   "id": "b76b2dec",
   "metadata": {},
   "outputs": [
    {
     "data": {
      "image/png": "[encoded data removed]",
      "text/plain": [
       "<Figure size 432x288 with 1 Axes>"
      ]
     },
     "metadata": {
      "needs_background": "light"
     },
     "output_type": "display_data"
    }
   ],
   "source": [
    "# with ideal Qini curve (red line)\n",
    "# perfect=True\n",
    "\n",
    "plot_qini_curve(y_test, uplift_logreg, treatment_test, perfect=True);"
   ]
  },
  {
   "cell_type": "code",
   "execution_count": 13,
   "id": "5ffe9f97",
   "metadata": {},
   "outputs": [
    {
     "data": {
      "image/png": "[encoded data removed]",
      "text/plain": [
       "<Figure size 432x288 with 1 Axes>"
      ]
     },
     "metadata": {
      "needs_background": "light"
     },
     "output_type": "display_data"
    }
   ],
   "source": [
    "fig, ax = plt.subplots(1, 1)\n",
    "ax.set_title('Two Model Uplift curves')\n",
    "plot_uplift_curve(y_test, uplift_logreg, treatment_test,perfect=True, name='TLearner', ax=ax);"
   ]
  },
  {
   "cell_type": "code",
   "execution_count": 14,
   "id": "1a2451b8",
   "metadata": {},
   "outputs": [
    {
     "name": "stderr",
     "output_type": "stream",
     "text": [
      "C:\\Program Files\\Python310\\lib\\site-packages\\numpy\\core\\fromnumeric.py:3199: VisibleDeprecationWarning: Creating an ndarray from ragged nested sequences (which is a list-or-tuple of lists-or-tuples-or ndarrays with different lengths or shapes) is deprecated. If you meant to do this, you must specify 'dtype=object' when creating the ndarray.\n",
      "  return asarray(a).ndim\n"
     ]
    },
    {
     "data": {
      "text/plain": [
       "array([<AxesSubplot:title={'center':'Uplift by percentile\\nweighted average uplift = 0.0519'}>,\n",
       "       <AxesSubplot:title={'center':'Response rate by percentile'}, xlabel='Percentile'>],\n",
       "      dtype=object)"
      ]
     },
     "execution_count": 14,
     "metadata": {},
     "output_type": "execute_result"
    },
    {
     "data": {
      "image/png": "[encoded data removed]",
      "text/plain": [
       "<Figure size 576x432 with 2 Axes>"
      ]
     },
     "metadata": {
      "needs_background": "light"
     },
     "output_type": "display_data"
    }
   ],
   "source": [
    "plot_uplift_by_percentile(y_true=y_test, uplift=uplift_logreg, treatment=treatment_test, kind='bar')"
   ]
  },
  {
   "cell_type": "markdown",
   "id": "51e4317d",
   "metadata": {},
   "source": [
    "### Check Uplift on Test set"
   ]
  },
  {
   "cell_type": "code",
   "execution_count": 15,
   "id": "969caa6f",
   "metadata": {},
   "outputs": [],
   "source": [
    "X_test['uplift'] = uplift_logreg.tolist()"
   ]
  },
  {
   "cell_type": "code",
   "execution_count": 16,
   "id": "6f9ef0fa",
   "metadata": {},
   "outputs": [],
   "source": [
    "# sort our test data\n",
    "X_test.sort_values('uplift', ascending=False, inplace=True)\n",
    "X_test.reset_index(drop=True, inplace=True)"
   ]
  },
  {
   "cell_type": "code",
   "execution_count": 17,
   "id": "6b3694de",
   "metadata": {},
   "outputs": [
    {
     "data": {
      "text/html": [
       "<div>\n",
       "<style scoped>\n",
       "    .dataframe tbody tr th:only-of-type {\n",
       "        vertical-align: middle;\n",
       "    }\n",
       "\n",
       "    .dataframe tbody tr th {\n",
       "        vertical-align: top;\n",
       "    }\n",
       "\n",
       "    .dataframe thead th {\n",
       "        text-align: right;\n",
       "    }\n",
       "</style>\n",
       "<table border=\"1\" class=\"dataframe\">\n",
       "  <thead>\n",
       "    <tr style=\"text-align: right;\">\n",
       "      <th></th>\n",
       "      <th>0</th>\n",
       "      <th>1</th>\n",
       "      <th>2</th>\n",
       "      <th>3</th>\n",
       "      <th>4</th>\n",
       "      <th>5</th>\n",
       "      <th>6</th>\n",
       "      <th>7</th>\n",
       "      <th>8</th>\n",
       "      <th>9</th>\n",
       "      <th>10</th>\n",
       "      <th>11</th>\n",
       "      <th>uplift</th>\n",
       "    </tr>\n",
       "  </thead>\n",
       "  <tbody>\n",
       "    <tr>\n",
       "      <th>833295</th>\n",
       "      <td>-0.893973</td>\n",
       "      <td>-0.154119</td>\n",
       "      <td>-0.804786</td>\n",
       "      <td>-0.777991</td>\n",
       "      <td>-0.213038</td>\n",
       "      <td>0.264136</td>\n",
       "      <td>-0.145959</td>\n",
       "      <td>-0.290197</td>\n",
       "      <td>0.752865</td>\n",
       "      <td>-0.484372</td>\n",
       "      <td>-0.243674</td>\n",
       "      <td>0.138856</td>\n",
       "      <td>0.035551</td>\n",
       "    </tr>\n",
       "    <tr>\n",
       "      <th>833296</th>\n",
       "      <td>-1.157336</td>\n",
       "      <td>-0.154119</td>\n",
       "      <td>-0.804786</td>\n",
       "      <td>0.084223</td>\n",
       "      <td>-0.213038</td>\n",
       "      <td>0.264136</td>\n",
       "      <td>-1.165108</td>\n",
       "      <td>-0.290197</td>\n",
       "      <td>0.752865</td>\n",
       "      <td>-0.484372</td>\n",
       "      <td>-0.243674</td>\n",
       "      <td>0.138856</td>\n",
       "      <td>0.035551</td>\n",
       "    </tr>\n",
       "    <tr>\n",
       "      <th>833297</th>\n",
       "      <td>-1.193801</td>\n",
       "      <td>-0.154119</td>\n",
       "      <td>-0.804786</td>\n",
       "      <td>-1.326476</td>\n",
       "      <td>-0.213038</td>\n",
       "      <td>0.264136</td>\n",
       "      <td>-0.277649</td>\n",
       "      <td>-0.290197</td>\n",
       "      <td>0.752865</td>\n",
       "      <td>-0.484372</td>\n",
       "      <td>-0.243674</td>\n",
       "      <td>0.138856</td>\n",
       "      <td>0.035551</td>\n",
       "    </tr>\n",
       "    <tr>\n",
       "      <th>833298</th>\n",
       "      <td>0.583292</td>\n",
       "      <td>-0.154119</td>\n",
       "      <td>-0.804786</td>\n",
       "      <td>0.496826</td>\n",
       "      <td>-0.213038</td>\n",
       "      <td>0.264136</td>\n",
       "      <td>0.354698</td>\n",
       "      <td>-0.290197</td>\n",
       "      <td>0.752865</td>\n",
       "      <td>-0.484372</td>\n",
       "      <td>-0.243674</td>\n",
       "      <td>0.138856</td>\n",
       "      <td>0.035551</td>\n",
       "    </tr>\n",
       "    <tr>\n",
       "      <th>833299</th>\n",
       "      <td>0.672371</td>\n",
       "      <td>-0.154119</td>\n",
       "      <td>-0.804786</td>\n",
       "      <td>0.496826</td>\n",
       "      <td>-0.213038</td>\n",
       "      <td>0.264136</td>\n",
       "      <td>0.723666</td>\n",
       "      <td>-0.290197</td>\n",
       "      <td>0.752865</td>\n",
       "      <td>-0.484372</td>\n",
       "      <td>-0.243674</td>\n",
       "      <td>0.138856</td>\n",
       "      <td>0.035551</td>\n",
       "    </tr>\n",
       "  </tbody>\n",
       "</table>\n",
       "</div>"
      ],
      "text/plain": [
       "               0         1         2         3         4         5         6  \\\n",
       "833295 -0.893973 -0.154119 -0.804786 -0.777991 -0.213038  0.264136 -0.145959   \n",
       "833296 -1.157336 -0.154119 -0.804786  0.084223 -0.213038  0.264136 -1.165108   \n",
       "833297 -1.193801 -0.154119 -0.804786 -1.326476 -0.213038  0.264136 -0.277649   \n",
       "833298  0.583292 -0.154119 -0.804786  0.496826 -0.213038  0.264136  0.354698   \n",
       "833299  0.672371 -0.154119 -0.804786  0.496826 -0.213038  0.264136  0.723666   \n",
       "\n",
       "               7         8         9        10        11    uplift  \n",
       "833295 -0.290197  0.752865 -0.484372 -0.243674  0.138856  0.035551  \n",
       "833296 -0.290197  0.752865 -0.484372 -0.243674  0.138856  0.035551  \n",
       "833297 -0.290197  0.752865 -0.484372 -0.243674  0.138856  0.035551  \n",
       "833298 -0.290197  0.752865 -0.484372 -0.243674  0.138856  0.035551  \n",
       "833299 -0.290197  0.752865 -0.484372 -0.243674  0.138856  0.035551  "
      ]
     },
     "execution_count": 17,
     "metadata": {},
     "output_type": "execute_result"
    }
   ],
   "source": [
    "X_test.tail()"
   ]
  },
  {
   "cell_type": "code",
   "execution_count": 18,
   "id": "88fbf23e",
   "metadata": {},
   "outputs": [
    {
     "data": {
      "text/plain": [
       "count    833300.000000\n",
       "mean          0.040137\n",
       "std           0.027950\n",
       "min           0.035551\n",
       "25%           0.035551\n",
       "50%           0.035603\n",
       "75%           0.036440\n",
       "max           0.961477\n",
       "Name: uplift, dtype: float64"
      ]
     },
     "execution_count": 18,
     "metadata": {},
     "output_type": "execute_result"
    }
   ],
   "source": [
    "X_test['uplift'].describe()"
   ]
  },
  {
   "cell_type": "markdown",
   "id": "b1a3783b",
   "metadata": {},
   "source": [
    "### Predict Uplift on Train Set"
   ]
  },
  {
   "cell_type": "code",
   "execution_count": 19,
   "id": "384a8c98",
   "metadata": {},
   "outputs": [],
   "source": [
    "# Predict Uplift of Training Set\n",
    "uplift_Xtrain = logreg_tm.predict(X_train)"
   ]
  },
  {
   "cell_type": "code",
   "execution_count": 20,
   "id": "87cc6f42",
   "metadata": {},
   "outputs": [],
   "source": [
    "X_train['uplift'] = uplift_Xtrain.tolist()"
   ]
  },
  {
   "cell_type": "code",
   "execution_count": 21,
   "id": "46d59658",
   "metadata": {},
   "outputs": [],
   "source": [
    "# sort our train data\n",
    "X_train.sort_values('uplift', ascending=False, inplace=True)\n",
    "X_train.reset_index(drop=True, inplace=True)"
   ]
  },
  {
   "cell_type": "code",
   "execution_count": 22,
   "id": "d7567daf",
   "metadata": {},
   "outputs": [
    {
     "data": {
      "text/html": [
       "<div>\n",
       "<style scoped>\n",
       "    .dataframe tbody tr th:only-of-type {\n",
       "        vertical-align: middle;\n",
       "    }\n",
       "\n",
       "    .dataframe tbody tr th {\n",
       "        vertical-align: top;\n",
       "    }\n",
       "\n",
       "    .dataframe thead th {\n",
       "        text-align: right;\n",
       "    }\n",
       "</style>\n",
       "<table border=\"1\" class=\"dataframe\">\n",
       "  <thead>\n",
       "    <tr style=\"text-align: right;\">\n",
       "      <th></th>\n",
       "      <th>0</th>\n",
       "      <th>1</th>\n",
       "      <th>2</th>\n",
       "      <th>3</th>\n",
       "      <th>4</th>\n",
       "      <th>5</th>\n",
       "      <th>6</th>\n",
       "      <th>7</th>\n",
       "      <th>8</th>\n",
       "      <th>9</th>\n",
       "      <th>10</th>\n",
       "      <th>11</th>\n",
       "      <th>uplift</th>\n",
       "    </tr>\n",
       "  </thead>\n",
       "  <tbody>\n",
       "    <tr>\n",
       "      <th>0</th>\n",
       "      <td>-1.205656</td>\n",
       "      <td>-0.154119</td>\n",
       "      <td>-0.154996</td>\n",
       "      <td>0.496826</td>\n",
       "      <td>20.333346</td>\n",
       "      <td>0.264136</td>\n",
       "      <td>1.016531</td>\n",
       "      <td>-0.290197</td>\n",
       "      <td>-4.038440</td>\n",
       "      <td>5.143014</td>\n",
       "      <td>1.144352</td>\n",
       "      <td>-30.414533</td>\n",
       "      <td>0.966167</td>\n",
       "    </tr>\n",
       "    <tr>\n",
       "      <th>1</th>\n",
       "      <td>-0.846677</td>\n",
       "      <td>-0.154119</td>\n",
       "      <td>0.142482</td>\n",
       "      <td>-2.838010</td>\n",
       "      <td>18.019374</td>\n",
       "      <td>0.264136</td>\n",
       "      <td>-1.350536</td>\n",
       "      <td>-0.290197</td>\n",
       "      <td>-3.681941</td>\n",
       "      <td>5.717501</td>\n",
       "      <td>1.720078</td>\n",
       "      <td>-33.139106</td>\n",
       "      <td>0.965686</td>\n",
       "    </tr>\n",
       "    <tr>\n",
       "      <th>2</th>\n",
       "      <td>-1.013998</td>\n",
       "      <td>3.326740</td>\n",
       "      <td>-0.593703</td>\n",
       "      <td>-2.386263</td>\n",
       "      <td>17.614019</td>\n",
       "      <td>-3.566604</td>\n",
       "      <td>-1.857975</td>\n",
       "      <td>1.824583</td>\n",
       "      <td>-3.723452</td>\n",
       "      <td>5.641278</td>\n",
       "      <td>1.552527</td>\n",
       "      <td>-31.652118</td>\n",
       "      <td>0.958175</td>\n",
       "    </tr>\n",
       "    <tr>\n",
       "      <th>3</th>\n",
       "      <td>-0.819465</td>\n",
       "      <td>3.326740</td>\n",
       "      <td>-0.643830</td>\n",
       "      <td>-3.029921</td>\n",
       "      <td>19.503846</td>\n",
       "      <td>-1.430994</td>\n",
       "      <td>-2.515746</td>\n",
       "      <td>1.814518</td>\n",
       "      <td>-3.992328</td>\n",
       "      <td>5.308735</td>\n",
       "      <td>0.109573</td>\n",
       "      <td>-28.978349</td>\n",
       "      <td>0.956747</td>\n",
       "    </tr>\n",
       "    <tr>\n",
       "      <th>4</th>\n",
       "      <td>-0.578404</td>\n",
       "      <td>-0.154119</td>\n",
       "      <td>-0.630838</td>\n",
       "      <td>-1.680914</td>\n",
       "      <td>19.470730</td>\n",
       "      <td>-3.566604</td>\n",
       "      <td>-1.794513</td>\n",
       "      <td>2.557228</td>\n",
       "      <td>-3.855794</td>\n",
       "      <td>5.015487</td>\n",
       "      <td>0.116932</td>\n",
       "      <td>-28.978349</td>\n",
       "      <td>0.956132</td>\n",
       "    </tr>\n",
       "  </tbody>\n",
       "</table>\n",
       "</div>"
      ],
      "text/plain": [
       "          0         1         2         3          4         5         6  \\\n",
       "0 -1.205656 -0.154119 -0.154996  0.496826  20.333346  0.264136  1.016531   \n",
       "1 -0.846677 -0.154119  0.142482 -2.838010  18.019374  0.264136 -1.350536   \n",
       "2 -1.013998  3.326740 -0.593703 -2.386263  17.614019 -3.566604 -1.857975   \n",
       "3 -0.819465  3.326740 -0.643830 -3.029921  19.503846 -1.430994 -2.515746   \n",
       "4 -0.578404 -0.154119 -0.630838 -1.680914  19.470730 -3.566604 -1.794513   \n",
       "\n",
       "          7         8         9        10         11    uplift  \n",
       "0 -0.290197 -4.038440  5.143014  1.144352 -30.414533  0.966167  \n",
       "1 -0.290197 -3.681941  5.717501  1.720078 -33.139106  0.965686  \n",
       "2  1.824583 -3.723452  5.641278  1.552527 -31.652118  0.958175  \n",
       "3  1.814518 -3.992328  5.308735  0.109573 -28.978349  0.956747  \n",
       "4  2.557228 -3.855794  5.015487  0.116932 -28.978349  0.956132  "
      ]
     },
     "execution_count": 22,
     "metadata": {},
     "output_type": "execute_result"
    }
   ],
   "source": [
    "X_train.head()"
   ]
  },
  {
   "cell_type": "code",
   "execution_count": 23,
   "id": "e4292f78",
   "metadata": {},
   "outputs": [
    {
     "data": {
      "image/png": "[encoded data removed]",
      "text/plain": [
       "<Figure size 432x288 with 1 Axes>"
      ]
     },
     "metadata": {
      "needs_background": "light"
     },
     "output_type": "display_data"
    }
   ],
   "source": [
    "plot_qini_curve(y_train, uplift_Xtrain, treatment_train, perfect=True);"
   ]
  },
  {
   "cell_type": "code",
   "execution_count": 24,
   "id": "94a7e85b",
   "metadata": {},
   "outputs": [
    {
     "data": {
      "text/plain": [
       "count    1.691849e+06\n",
       "mean     4.013945e-02\n",
       "std      2.802132e-02\n",
       "min      3.555106e-02\n",
       "25%      3.555106e-02\n",
       "50%      3.560328e-02\n",
       "75%      3.642886e-02\n",
       "max      9.661668e-01\n",
       "Name: uplift, dtype: float64"
      ]
     },
     "execution_count": 24,
     "metadata": {},
     "output_type": "execute_result"
    }
   ],
   "source": [
    "X_train['uplift'].describe()"
   ]
  },
  {
   "cell_type": "code",
   "execution_count": 25,
   "id": "c36ad345",
   "metadata": {},
   "outputs": [
    {
     "name": "stderr",
     "output_type": "stream",
     "text": [
      "C:\\Program Files\\Python310\\lib\\site-packages\\numpy\\core\\fromnumeric.py:3199: VisibleDeprecationWarning: Creating an ndarray from ragged nested sequences (which is a list-or-tuple of lists-or-tuples-or ndarrays with different lengths or shapes) is deprecated. If you meant to do this, you must specify 'dtype=object' when creating the ndarray.\n",
      "  return asarray(a).ndim\n"
     ]
    },
    {
     "data": {
      "text/plain": [
       "array([<AxesSubplot:title={'center':'Uplift by percentile\\nweighted average uplift = 0.0518'}>,\n",
       "       <AxesSubplot:title={'center':'Response rate by percentile'}, xlabel='Percentile'>],\n",
       "      dtype=object)"
      ]
     },
     "execution_count": 25,
     "metadata": {},
     "output_type": "execute_result"
    },
    {
     "data": {
      "image/png": "[encoded data removed]",
      "text/plain": [
       "<Figure size 576x432 with 2 Axes>"
      ]
     },
     "metadata": {
      "needs_background": "light"
     },
     "output_type": "display_data"
    }
   ],
   "source": [
    "plot_uplift_by_percentile(y_true=y_train, uplift=uplift_Xtrain, treatment=treatment_train, kind='bar')"
   ]
  },
  {
   "cell_type": "markdown",
   "id": "d83a1620",
   "metadata": {},
   "source": [
    "Save model to Disk using Pickle"
   ]
  },
  {
   "cell_type": "code",
   "execution_count": 26,
   "id": "1ab5667b",
   "metadata": {},
   "outputs": [],
   "source": [
    "import pickle\n",
    "# save the model to disk\n",
    "filename = 'uplift_model.sav'\n",
    "pickle.dump(logreg_tm, open(filename, 'wb'))"
   ]
  },
  {
   "cell_type": "code",
   "execution_count": 27,
   "id": "f513215c",
   "metadata": {},
   "outputs": [],
   "source": [
    "new_data = df[(df['treatment'] == 1 ) & (df['exposure']==0)]"
   ]
  },
  {
   "cell_type": "code",
   "execution_count": 28,
   "id": "f3b7e42d",
   "metadata": {},
   "outputs": [],
   "source": [
    "new_data_features = new_data.reset_index().drop(['index','treatment', 'visit', 'conversion', 'exposure'], axis = 1)"
   ]
  },
  {
   "cell_type": "code",
   "execution_count": 29,
   "id": "c124d34c",
   "metadata": {},
   "outputs": [
    {
     "data": {
      "text/html": [
       "<div>\n",
       "<style scoped>\n",
       "    .dataframe tbody tr th:only-of-type {\n",
       "        vertical-align: middle;\n",
       "    }\n",
       "\n",
       "    .dataframe tbody tr th {\n",
       "        vertical-align: top;\n",
       "    }\n",
       "\n",
       "    .dataframe thead th {\n",
       "        text-align: right;\n",
       "    }\n",
       "</style>\n",
       "<table border=\"1\" class=\"dataframe\">\n",
       "  <thead>\n",
       "    <tr style=\"text-align: right;\">\n",
       "      <th></th>\n",
       "      <th>f0</th>\n",
       "      <th>f1</th>\n",
       "      <th>f2</th>\n",
       "      <th>f3</th>\n",
       "      <th>f4</th>\n",
       "      <th>f5</th>\n",
       "      <th>f6</th>\n",
       "      <th>f7</th>\n",
       "      <th>f8</th>\n",
       "      <th>f9</th>\n",
       "      <th>f10</th>\n",
       "      <th>f11</th>\n",
       "    </tr>\n",
       "  </thead>\n",
       "  <tbody>\n",
       "    <tr>\n",
       "      <th>0</th>\n",
       "      <td>12.616365</td>\n",
       "      <td>10.059654</td>\n",
       "      <td>8.976429</td>\n",
       "      <td>4.679882</td>\n",
       "      <td>10.280525</td>\n",
       "      <td>4.115453</td>\n",
       "      <td>0.294443</td>\n",
       "      <td>4.833815</td>\n",
       "      <td>3.955396</td>\n",
       "      <td>13.190056</td>\n",
       "      <td>5.300375</td>\n",
       "      <td>-0.168679</td>\n",
       "    </tr>\n",
       "    <tr>\n",
       "      <th>1</th>\n",
       "      <td>12.616365</td>\n",
       "      <td>10.059654</td>\n",
       "      <td>9.002689</td>\n",
       "      <td>4.679882</td>\n",
       "      <td>10.280525</td>\n",
       "      <td>4.115453</td>\n",
       "      <td>0.294443</td>\n",
       "      <td>4.833815</td>\n",
       "      <td>3.955396</td>\n",
       "      <td>13.190056</td>\n",
       "      <td>5.300375</td>\n",
       "      <td>-0.168679</td>\n",
       "    </tr>\n",
       "    <tr>\n",
       "      <th>2</th>\n",
       "      <td>12.616365</td>\n",
       "      <td>10.059654</td>\n",
       "      <td>8.964775</td>\n",
       "      <td>4.679882</td>\n",
       "      <td>10.280525</td>\n",
       "      <td>4.115453</td>\n",
       "      <td>0.294443</td>\n",
       "      <td>4.833815</td>\n",
       "      <td>3.955396</td>\n",
       "      <td>13.190056</td>\n",
       "      <td>5.300375</td>\n",
       "      <td>-0.168679</td>\n",
       "    </tr>\n",
       "    <tr>\n",
       "      <th>3</th>\n",
       "      <td>12.616365</td>\n",
       "      <td>10.059654</td>\n",
       "      <td>9.002801</td>\n",
       "      <td>4.679882</td>\n",
       "      <td>10.280525</td>\n",
       "      <td>4.115453</td>\n",
       "      <td>0.294443</td>\n",
       "      <td>4.833815</td>\n",
       "      <td>3.955396</td>\n",
       "      <td>13.190056</td>\n",
       "      <td>5.300375</td>\n",
       "      <td>-0.168679</td>\n",
       "    </tr>\n",
       "    <tr>\n",
       "      <th>4</th>\n",
       "      <td>12.616365</td>\n",
       "      <td>10.059654</td>\n",
       "      <td>9.037999</td>\n",
       "      <td>4.679882</td>\n",
       "      <td>10.280525</td>\n",
       "      <td>4.115453</td>\n",
       "      <td>0.294443</td>\n",
       "      <td>4.833815</td>\n",
       "      <td>3.955396</td>\n",
       "      <td>13.190056</td>\n",
       "      <td>5.300375</td>\n",
       "      <td>-0.168679</td>\n",
       "    </tr>\n",
       "    <tr>\n",
       "      <th>...</th>\n",
       "      <td>...</td>\n",
       "      <td>...</td>\n",
       "      <td>...</td>\n",
       "      <td>...</td>\n",
       "      <td>...</td>\n",
       "      <td>...</td>\n",
       "      <td>...</td>\n",
       "      <td>...</td>\n",
       "      <td>...</td>\n",
       "      <td>...</td>\n",
       "      <td>...</td>\n",
       "      <td>...</td>\n",
       "    </tr>\n",
       "    <tr>\n",
       "      <th>11454438</th>\n",
       "      <td>17.839167</td>\n",
       "      <td>10.059654</td>\n",
       "      <td>8.695293</td>\n",
       "      <td>3.359763</td>\n",
       "      <td>10.280525</td>\n",
       "      <td>4.115453</td>\n",
       "      <td>-5.987667</td>\n",
       "      <td>4.833815</td>\n",
       "      <td>3.788939</td>\n",
       "      <td>13.190056</td>\n",
       "      <td>5.300375</td>\n",
       "      <td>-0.168679</td>\n",
       "    </tr>\n",
       "    <tr>\n",
       "      <th>11454439</th>\n",
       "      <td>26.297764</td>\n",
       "      <td>10.059654</td>\n",
       "      <td>9.006250</td>\n",
       "      <td>4.679882</td>\n",
       "      <td>10.280525</td>\n",
       "      <td>4.115453</td>\n",
       "      <td>-3.282109</td>\n",
       "      <td>4.833815</td>\n",
       "      <td>3.839578</td>\n",
       "      <td>13.190056</td>\n",
       "      <td>5.300375</td>\n",
       "      <td>-0.168679</td>\n",
       "    </tr>\n",
       "    <tr>\n",
       "      <th>11454440</th>\n",
       "      <td>12.976557</td>\n",
       "      <td>10.059654</td>\n",
       "      <td>8.381868</td>\n",
       "      <td>0.842442</td>\n",
       "      <td>11.029584</td>\n",
       "      <td>4.115453</td>\n",
       "      <td>-8.281971</td>\n",
       "      <td>4.833815</td>\n",
       "      <td>3.779212</td>\n",
       "      <td>23.570168</td>\n",
       "      <td>6.169187</td>\n",
       "      <td>-0.168679</td>\n",
       "    </tr>\n",
       "    <tr>\n",
       "      <th>11454441</th>\n",
       "      <td>24.805064</td>\n",
       "      <td>10.059654</td>\n",
       "      <td>8.214383</td>\n",
       "      <td>4.679882</td>\n",
       "      <td>10.280525</td>\n",
       "      <td>4.115453</td>\n",
       "      <td>-1.288207</td>\n",
       "      <td>4.833815</td>\n",
       "      <td>3.971858</td>\n",
       "      <td>13.190056</td>\n",
       "      <td>5.300375</td>\n",
       "      <td>-0.168679</td>\n",
       "    </tr>\n",
       "    <tr>\n",
       "      <th>11454442</th>\n",
       "      <td>12.616365</td>\n",
       "      <td>10.059654</td>\n",
       "      <td>8.214383</td>\n",
       "      <td>4.679882</td>\n",
       "      <td>10.280525</td>\n",
       "      <td>3.013064</td>\n",
       "      <td>0.294443</td>\n",
       "      <td>9.332563</td>\n",
       "      <td>3.971858</td>\n",
       "      <td>13.190056</td>\n",
       "      <td>5.300375</td>\n",
       "      <td>-0.168679</td>\n",
       "    </tr>\n",
       "  </tbody>\n",
       "</table>\n",
       "<p>11454443 rows × 12 columns</p>\n",
       "</div>"
      ],
      "text/plain": [
       "                 f0         f1        f2        f3         f4        f5  \\\n",
       "0         12.616365  10.059654  8.976429  4.679882  10.280525  4.115453   \n",
       "1         12.616365  10.059654  9.002689  4.679882  10.280525  4.115453   \n",
       "2         12.616365  10.059654  8.964775  4.679882  10.280525  4.115453   \n",
       "3         12.616365  10.059654  9.002801  4.679882  10.280525  4.115453   \n",
       "4         12.616365  10.059654  9.037999  4.679882  10.280525  4.115453   \n",
       "...             ...        ...       ...       ...        ...       ...   \n",
       "11454438  17.839167  10.059654  8.695293  3.359763  10.280525  4.115453   \n",
       "11454439  26.297764  10.059654  9.006250  4.679882  10.280525  4.115453   \n",
       "11454440  12.976557  10.059654  8.381868  0.842442  11.029584  4.115453   \n",
       "11454441  24.805064  10.059654  8.214383  4.679882  10.280525  4.115453   \n",
       "11454442  12.616365  10.059654  8.214383  4.679882  10.280525  3.013064   \n",
       "\n",
       "                f6        f7        f8         f9       f10       f11  \n",
       "0         0.294443  4.833815  3.955396  13.190056  5.300375 -0.168679  \n",
       "1         0.294443  4.833815  3.955396  13.190056  5.300375 -0.168679  \n",
       "2         0.294443  4.833815  3.955396  13.190056  5.300375 -0.168679  \n",
       "3         0.294443  4.833815  3.955396  13.190056  5.300375 -0.168679  \n",
       "4         0.294443  4.833815  3.955396  13.190056  5.300375 -0.168679  \n",
       "...            ...       ...       ...        ...       ...       ...  \n",
       "11454438 -5.987667  4.833815  3.788939  13.190056  5.300375 -0.168679  \n",
       "11454439 -3.282109  4.833815  3.839578  13.190056  5.300375 -0.168679  \n",
       "11454440 -8.281971  4.833815  3.779212  23.570168  6.169187 -0.168679  \n",
       "11454441 -1.288207  4.833815  3.971858  13.190056  5.300375 -0.168679  \n",
       "11454442  0.294443  9.332563  3.971858  13.190056  5.300375 -0.168679  \n",
       "\n",
       "[11454443 rows x 12 columns]"
      ]
     },
     "execution_count": 29,
     "metadata": {},
     "output_type": "execute_result"
    }
   ],
   "source": [
    "new_data_features"
   ]
  },
  {
   "cell_type": "code",
   "execution_count": 30,
   "id": "972539ae",
   "metadata": {},
   "outputs": [],
   "source": [
    "ndf_sca = scaled.fit_transform(new_data_features)"
   ]
  },
  {
   "cell_type": "code",
   "execution_count": 31,
   "id": "d869438a",
   "metadata": {},
   "outputs": [
    {
     "name": "stdout",
     "output_type": "stream",
     "text": [
      "[0.03624971 0.03624971 0.03624971 ... 0.05881418 0.03618722 0.03618722]\n"
     ]
    }
   ],
   "source": [
    "# load the model from disk\n",
    "loaded_model = pickle.load(open(filename, 'rb'))\n",
    "result = loaded_model.predict(ndf_sca)\n",
    "print(result)"
   ]
  }
 ],
 "metadata": {
  "kernelspec": {
   "display_name": "Python 3 (ipykernel)",
   "language": "python",
   "name": "python3"
  },
  "language_info": {
   "codemirror_mode": {
    "name": "ipython",
    "version": 3
   },
   "file_extension": ".py",
   "mimetype": "text/x-python",
   "name": "python",
   "nbconvert_exporter": "python",
   "pygments_lexer": "ipython3",
   "version": "3.10.1"
  }
 },
 "nbformat": 4,
 "nbformat_minor": 5
}
