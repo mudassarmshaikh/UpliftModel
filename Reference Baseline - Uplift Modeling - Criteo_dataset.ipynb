{
  "cells": [
    {
      "cell_type": "markdown",
      "metadata": {
        "id": "jttdRQir7vPx"
      },
      "source": [
        "# Criteo Uplift Modeling Dataset"
      ]
    },
    {
      "cell_type": "markdown",
      "metadata": {
        "id": "pwbpBjQ87vQE"
      },
      "source": [
        "This dataset is released along with the paper: “A Large Scale Benchmark for Uplift Modeling” Eustache Diemert, Artem Betlei, Christophe Renaudin; (Criteo AI Lab), Massih-Reza Amini (LIG, Grenoble INP) This work was published in: AdKDD 2018 Workshop, in conjunction with KDD 2018.\n",
        "\n",
        "This dataset is constructed by assembling data resulting from several incrementality tests, a particular randomized trial procedure where a random part of the population is prevented from being targeted by advertising."
      ]
    },
    {
      "cell_type": "markdown",
      "metadata": {
        "id": "c0py0Sfz7vQS"
      },
      "source": [
        "Here is a detailed description of the fields original dataset:\n",
        "\n",
        "- **f0, f1, f2, f3, f4, f5, f6, f7, f8, f9, f10, f11**: feature values (dense, float)\n",
        "\n",
        "- **treatment**: treatment group. Flag if a company participates in the RTB auction for a particular user (binary: 1 = treated, 0 = control)\n",
        "\n",
        "- **exposure**: treatment effect, whether the user has been effectively exposed. Flag if a company wins in the RTB auction for the user (binary)\n",
        "\n",
        "- **conversion**: whether a conversion occured for this user (binary, label)\n",
        "\n",
        "- **visit**: whether a visit occured for this user (binary, label)"
      ]
    },
    {
      "cell_type": "code",
      "execution_count": 1,
      "metadata": {
        "colab": {
          "base_uri": "https://localhost:8080/"
        },
        "id": "7DfkfPPH7vQX",
        "outputId": "a06d211e-491d-4abb-8b55-e3af9b454eb5"
      },
      "outputs": [
        {
          "output_type": "stream",
          "name": "stdout",
          "text": [
            "Collecting scikit-uplift\n",
            "  Downloading scikit_uplift-0.4.0-py3-none-any.whl (38 kB)\n",
            "Requirement already satisfied: dill in /usr/local/lib/python3.7/dist-packages (0.3.4)\n",
            "Requirement already satisfied: lightgbm in /usr/local/lib/python3.7/dist-packages (2.2.3)\n",
            "Requirement already satisfied: matplotlib in /usr/local/lib/python3.7/dist-packages (from scikit-uplift) (3.2.2)\n",
            "Requirement already satisfied: numpy>=1.16 in /usr/local/lib/python3.7/dist-packages (from scikit-uplift) (1.19.5)\n",
            "Requirement already satisfied: scikit-learn>=0.21.0 in /usr/local/lib/python3.7/dist-packages (from scikit-uplift) (1.0.2)\n",
            "Requirement already satisfied: tqdm in /usr/local/lib/python3.7/dist-packages (from scikit-uplift) (4.62.3)\n",
            "Requirement already satisfied: pandas in /usr/local/lib/python3.7/dist-packages (from scikit-uplift) (1.1.5)\n",
            "Requirement already satisfied: requests in /usr/local/lib/python3.7/dist-packages (from scikit-uplift) (2.23.0)\n",
            "Requirement already satisfied: scipy>=1.1.0 in /usr/local/lib/python3.7/dist-packages (from scikit-learn>=0.21.0->scikit-uplift) (1.4.1)\n",
            "Requirement already satisfied: joblib>=0.11 in /usr/local/lib/python3.7/dist-packages (from scikit-learn>=0.21.0->scikit-uplift) (1.1.0)\n",
            "Requirement already satisfied: threadpoolctl>=2.0.0 in /usr/local/lib/python3.7/dist-packages (from scikit-learn>=0.21.0->scikit-uplift) (3.0.0)\n",
            "Requirement already satisfied: pyparsing!=2.0.4,!=2.1.2,!=2.1.6,>=2.0.1 in /usr/local/lib/python3.7/dist-packages (from matplotlib->scikit-uplift) (3.0.6)\n",
            "Requirement already satisfied: python-dateutil>=2.1 in /usr/local/lib/python3.7/dist-packages (from matplotlib->scikit-uplift) (2.8.2)\n",
            "Requirement already satisfied: kiwisolver>=1.0.1 in /usr/local/lib/python3.7/dist-packages (from matplotlib->scikit-uplift) (1.3.2)\n",
            "Requirement already satisfied: cycler>=0.10 in /usr/local/lib/python3.7/dist-packages (from matplotlib->scikit-uplift) (0.11.0)\n",
            "Requirement already satisfied: six>=1.5 in /usr/local/lib/python3.7/dist-packages (from python-dateutil>=2.1->matplotlib->scikit-uplift) (1.15.0)\n",
            "Requirement already satisfied: pytz>=2017.2 in /usr/local/lib/python3.7/dist-packages (from pandas->scikit-uplift) (2018.9)\n",
            "Requirement already satisfied: urllib3!=1.25.0,!=1.25.1,<1.26,>=1.21.1 in /usr/local/lib/python3.7/dist-packages (from requests->scikit-uplift) (1.24.3)\n",
            "Requirement already satisfied: chardet<4,>=3.0.2 in /usr/local/lib/python3.7/dist-packages (from requests->scikit-uplift) (3.0.4)\n",
            "Requirement already satisfied: certifi>=2017.4.17 in /usr/local/lib/python3.7/dist-packages (from requests->scikit-uplift) (2021.10.8)\n",
            "Requirement already satisfied: idna<3,>=2.5 in /usr/local/lib/python3.7/dist-packages (from requests->scikit-uplift) (2.10)\n",
            "Installing collected packages: scikit-uplift\n",
            "Successfully installed scikit-uplift-0.4.0\n"
          ]
        }
      ],
      "source": [
        "import sys\n",
        "\n",
        "# install uplift library scikit-uplift and other libraries \n",
        "!{sys.executable} -m pip install scikit-uplift dill lightgbm"
      ]
    },
    {
      "cell_type": "code",
      "execution_count": 2,
      "metadata": {
        "id": "e1ITIxLA7vQf"
      },
      "outputs": [],
      "source": [
        "from sklift.datasets import fetch_criteo\n",
        "import pandas as pd \n",
        "import matplotlib.pyplot as plt\n",
        "import seaborn as sns\n",
        "%matplotlib inline\n",
        "from sklearn.model_selection import train_test_split\n",
        "from sklift.models import TwoModels\n",
        "import lightgbm as lgb\n",
        "from sklift.metrics import qini_auc_score\n",
        "from sklift.viz import plot_qini_curve\n",
        "\n",
        "seed=31"
      ]
    },
    {
      "cell_type": "markdown",
      "metadata": {
        "id": "W2YkAEtE7vQi"
      },
      "source": [
        "## 📝 Load data\n",
        "\n",
        "Dataset can be loaded from `sklift.datasets` module using `fetch_criteo` function. There are few function parameters:\n",
        "- target_col – selects which column ('visit', 'conversion' or 'all') from dataset will be target\n",
        "- treatment_col – selects which column ('treatment', 'exposure' or 'all') from dataset will be treatment.\n",
        "- percent10 – whether to load only 10 percent of the data.\n",
        "\n",
        "Let's load the dataset with default parameters (target = 'visit', treatment = 'treatment'). "
      ]
    },
    {
      "cell_type": "code",
      "execution_count": 3,
      "metadata": {
        "colab": {
          "base_uri": "https://localhost:8080/",
          "height": 49,
          "referenced_widgets": [
            "1dcb239049ff4b9680ba82f6f4566463",
            "625fe8590815480790048e9581615a2c",
            "15be03ecd3c54a249a8891da8becdd4d",
            "b8d8623df9d443dcb208ed36fe78266a",
            "bc0288bee669404a84706ec91127ad27",
            "08737d33f8664c799cd94d7f7e081c3a",
            "412f1906658f45de9b1e9409e0429607",
            "90988d0230444121b9f9839cfc8b9564",
            "eb17b3512f6f45afb8af7c310fee716b",
            "5df728c17ecc4998b469f2e4dc5b1006",
            "26641090b28f4b47b7c6c0aacf0ad80f"
          ]
        },
        "id": "oxnAyAp67vQk",
        "outputId": "916824f8-138b-4e81-a825-4bc075061ce5"
      },
      "outputs": [
        {
          "output_type": "display_data",
          "data": {
            "application/vnd.jupyter.widget-view+json": {
              "model_id": "1dcb239049ff4b9680ba82f6f4566463",
              "version_minor": 0,
              "version_major": 2
            },
            "text/plain": [
              "  0%|          | 0.00/311M [00:00<?, ?iB/s]"
            ]
          },
          "metadata": {}
        }
      ],
      "source": [
        "# returns sklearn Bunch object\n",
        "# with data, target, treatment keys\n",
        "# data features (pd.DataFrame), target (pd.Series), treatment (pd.Series) values \n",
        "\n",
        "dataset = fetch_criteo()"
      ]
    },
    {
      "cell_type": "code",
      "execution_count": 4,
      "metadata": {
        "colab": {
          "base_uri": "https://localhost:8080/"
        },
        "id": "CfMx4B9v7vQm",
        "outputId": "118a37e4-d507-46f7-85bc-9f6f0c9ed78a"
      },
      "outputs": [
        {
          "output_type": "stream",
          "name": "stdout",
          "text": [
            "Dataset type: <class 'sklearn.utils.Bunch'>\n",
            "\n",
            "Dataset features shape: (13979592, 12)\n",
            "Dataset target shape: (13979592,)\n",
            "Dataset treatment shape: (13979592,)\n"
          ]
        }
      ],
      "source": [
        "print(f\"Dataset type: {type(dataset)}\\n\")\n",
        "print(f\"Dataset features shape: {dataset.data.shape}\")\n",
        "print(f\"Dataset target shape: {dataset.target.shape}\")\n",
        "print(f\"Dataset treatment shape: {dataset.treatment.shape}\")"
      ]
    },
    {
      "cell_type": "markdown",
      "metadata": {
        "id": "YIZ5a3sz7vQr"
      },
      "source": [
        "## 📝 EDA"
      ]
    },
    {
      "cell_type": "markdown",
      "metadata": {
        "id": "2B3Z8bmY7vQu"
      },
      "source": [
        "Let's have a look at the data features."
      ]
    },
    {
      "cell_type": "code",
      "execution_count": 5,
      "metadata": {
        "colab": {
          "base_uri": "https://localhost:8080/"
        },
        "id": "yPbxG2qd7vQx",
        "outputId": "41496f4c-59e9-4e77-de4f-b98507d7682d"
      },
      "outputs": [
        {
          "output_type": "stream",
          "name": "stdout",
          "text": [
            "<class 'pandas.core.frame.DataFrame'>\n",
            "RangeIndex: 13979592 entries, 0 to 13979591\n",
            "Data columns (total 12 columns):\n",
            " #   Column  Dtype  \n",
            "---  ------  -----  \n",
            " 0   f0      float64\n",
            " 1   f1      float64\n",
            " 2   f2      float64\n",
            " 3   f3      float64\n",
            " 4   f4      float64\n",
            " 5   f5      float64\n",
            " 6   f6      float64\n",
            " 7   f7      float64\n",
            " 8   f8      float64\n",
            " 9   f9      float64\n",
            " 10  f10     float64\n",
            " 11  f11     float64\n",
            "dtypes: float64(12)\n",
            "memory usage: 1.2 GB\n"
          ]
        }
      ],
      "source": [
        "dataset.data.info()"
      ]
    },
    {
      "cell_type": "code",
      "execution_count": 6,
      "metadata": {
        "colab": {
          "base_uri": "https://localhost:8080/",
          "height": 363
        },
        "id": "nEiSE0T57vQ0",
        "outputId": "3a096ed8-7265-435f-d821-ce8f58fa264d"
      },
      "outputs": [
        {
          "output_type": "execute_result",
          "data": {
            "text/html": [
              "\n",
              "  <div id=\"df-a8001d31-4138-4712-8c07-4ab30fe946fa\">\n",
              "    <div class=\"colab-df-container\">\n",
              "      <div>\n",
              "<style scoped>\n",
              "    .dataframe tbody tr th:only-of-type {\n",
              "        vertical-align: middle;\n",
              "    }\n",
              "\n",
              "    .dataframe tbody tr th {\n",
              "        vertical-align: top;\n",
              "    }\n",
              "\n",
              "    .dataframe thead th {\n",
              "        text-align: right;\n",
              "    }\n",
              "</style>\n",
              "<table border=\"1\" class=\"dataframe\">\n",
              "  <thead>\n",
              "    <tr style=\"text-align: right;\">\n",
              "      <th></th>\n",
              "      <th>f0</th>\n",
              "      <th>f1</th>\n",
              "      <th>f2</th>\n",
              "      <th>f3</th>\n",
              "      <th>f4</th>\n",
              "      <th>f5</th>\n",
              "      <th>f6</th>\n",
              "      <th>f7</th>\n",
              "      <th>f8</th>\n",
              "      <th>f9</th>\n",
              "      <th>f10</th>\n",
              "      <th>f11</th>\n",
              "    </tr>\n",
              "  </thead>\n",
              "  <tbody>\n",
              "    <tr>\n",
              "      <th>0</th>\n",
              "      <td>12.616365</td>\n",
              "      <td>10.059654</td>\n",
              "      <td>8.976429</td>\n",
              "      <td>4.679882</td>\n",
              "      <td>10.280525</td>\n",
              "      <td>4.115453</td>\n",
              "      <td>0.294443</td>\n",
              "      <td>4.833815</td>\n",
              "      <td>3.955396</td>\n",
              "      <td>13.190056</td>\n",
              "      <td>5.300375</td>\n",
              "      <td>-0.168679</td>\n",
              "    </tr>\n",
              "    <tr>\n",
              "      <th>1</th>\n",
              "      <td>12.616365</td>\n",
              "      <td>10.059654</td>\n",
              "      <td>9.002689</td>\n",
              "      <td>4.679882</td>\n",
              "      <td>10.280525</td>\n",
              "      <td>4.115453</td>\n",
              "      <td>0.294443</td>\n",
              "      <td>4.833815</td>\n",
              "      <td>3.955396</td>\n",
              "      <td>13.190056</td>\n",
              "      <td>5.300375</td>\n",
              "      <td>-0.168679</td>\n",
              "    </tr>\n",
              "    <tr>\n",
              "      <th>2</th>\n",
              "      <td>12.616365</td>\n",
              "      <td>10.059654</td>\n",
              "      <td>8.964775</td>\n",
              "      <td>4.679882</td>\n",
              "      <td>10.280525</td>\n",
              "      <td>4.115453</td>\n",
              "      <td>0.294443</td>\n",
              "      <td>4.833815</td>\n",
              "      <td>3.955396</td>\n",
              "      <td>13.190056</td>\n",
              "      <td>5.300375</td>\n",
              "      <td>-0.168679</td>\n",
              "    </tr>\n",
              "    <tr>\n",
              "      <th>3</th>\n",
              "      <td>12.616365</td>\n",
              "      <td>10.059654</td>\n",
              "      <td>9.002801</td>\n",
              "      <td>4.679882</td>\n",
              "      <td>10.280525</td>\n",
              "      <td>4.115453</td>\n",
              "      <td>0.294443</td>\n",
              "      <td>4.833815</td>\n",
              "      <td>3.955396</td>\n",
              "      <td>13.190056</td>\n",
              "      <td>5.300375</td>\n",
              "      <td>-0.168679</td>\n",
              "    </tr>\n",
              "    <tr>\n",
              "      <th>4</th>\n",
              "      <td>12.616365</td>\n",
              "      <td>10.059654</td>\n",
              "      <td>9.037999</td>\n",
              "      <td>4.679882</td>\n",
              "      <td>10.280525</td>\n",
              "      <td>4.115453</td>\n",
              "      <td>0.294443</td>\n",
              "      <td>4.833815</td>\n",
              "      <td>3.955396</td>\n",
              "      <td>13.190056</td>\n",
              "      <td>5.300375</td>\n",
              "      <td>-0.168679</td>\n",
              "    </tr>\n",
              "    <tr>\n",
              "      <th>13979587</th>\n",
              "      <td>26.297764</td>\n",
              "      <td>10.059654</td>\n",
              "      <td>9.006250</td>\n",
              "      <td>4.679882</td>\n",
              "      <td>10.280525</td>\n",
              "      <td>4.115453</td>\n",
              "      <td>-3.282109</td>\n",
              "      <td>4.833815</td>\n",
              "      <td>3.839578</td>\n",
              "      <td>13.190056</td>\n",
              "      <td>5.300375</td>\n",
              "      <td>-0.168679</td>\n",
              "    </tr>\n",
              "    <tr>\n",
              "      <th>13979588</th>\n",
              "      <td>12.642207</td>\n",
              "      <td>10.679513</td>\n",
              "      <td>8.214383</td>\n",
              "      <td>-1.700105</td>\n",
              "      <td>10.280525</td>\n",
              "      <td>3.013064</td>\n",
              "      <td>-13.955150</td>\n",
              "      <td>6.269026</td>\n",
              "      <td>3.971858</td>\n",
              "      <td>13.190056</td>\n",
              "      <td>5.300375</td>\n",
              "      <td>-0.168679</td>\n",
              "    </tr>\n",
              "    <tr>\n",
              "      <th>13979589</th>\n",
              "      <td>12.976557</td>\n",
              "      <td>10.059654</td>\n",
              "      <td>8.381868</td>\n",
              "      <td>0.842442</td>\n",
              "      <td>11.029584</td>\n",
              "      <td>4.115453</td>\n",
              "      <td>-8.281971</td>\n",
              "      <td>4.833815</td>\n",
              "      <td>3.779212</td>\n",
              "      <td>23.570168</td>\n",
              "      <td>6.169187</td>\n",
              "      <td>-0.168679</td>\n",
              "    </tr>\n",
              "    <tr>\n",
              "      <th>13979590</th>\n",
              "      <td>24.805064</td>\n",
              "      <td>10.059654</td>\n",
              "      <td>8.214383</td>\n",
              "      <td>4.679882</td>\n",
              "      <td>10.280525</td>\n",
              "      <td>4.115453</td>\n",
              "      <td>-1.288207</td>\n",
              "      <td>4.833815</td>\n",
              "      <td>3.971858</td>\n",
              "      <td>13.190056</td>\n",
              "      <td>5.300375</td>\n",
              "      <td>-0.168679</td>\n",
              "    </tr>\n",
              "    <tr>\n",
              "      <th>13979591</th>\n",
              "      <td>12.616365</td>\n",
              "      <td>10.059654</td>\n",
              "      <td>8.214383</td>\n",
              "      <td>4.679882</td>\n",
              "      <td>10.280525</td>\n",
              "      <td>3.013064</td>\n",
              "      <td>0.294443</td>\n",
              "      <td>9.332563</td>\n",
              "      <td>3.971858</td>\n",
              "      <td>13.190056</td>\n",
              "      <td>5.300375</td>\n",
              "      <td>-0.168679</td>\n",
              "    </tr>\n",
              "  </tbody>\n",
              "</table>\n",
              "</div>\n",
              "      <button class=\"colab-df-convert\" onclick=\"convertToInteractive('df-a8001d31-4138-4712-8c07-4ab30fe946fa')\"\n",
              "              title=\"Convert this dataframe to an interactive table.\"\n",
              "              style=\"display:none;\">\n",
              "        \n",
              "  <svg xmlns=\"http://www.w3.org/2000/svg\" height=\"24px\"viewBox=\"0 0 24 24\"\n",
              "       width=\"24px\">\n",
              "    <path d=\"M0 0h24v24H0V0z\" fill=\"none\"/>\n",
              "    <path d=\"M18.56 5.44l.94 2.06.94-2.06 2.06-.94-2.06-.94-.94-2.06-.94 2.06-2.06.94zm-11 1L8.5 8.5l.94-2.06 2.06-.94-2.06-.94L8.5 2.5l-.94 2.06-2.06.94zm10 10l.94 2.06.94-2.06 2.06-.94-2.06-.94-.94-2.06-.94 2.06-2.06.94z\"/><path d=\"M17.41 7.96l-1.37-1.37c-.4-.4-.92-.59-1.43-.59-.52 0-1.04.2-1.43.59L10.3 9.45l-7.72 7.72c-.78.78-.78 2.05 0 2.83L4 21.41c.39.39.9.59 1.41.59.51 0 1.02-.2 1.41-.59l7.78-7.78 2.81-2.81c.8-.78.8-2.07 0-2.86zM5.41 20L4 18.59l7.72-7.72 1.47 1.35L5.41 20z\"/>\n",
              "  </svg>\n",
              "      </button>\n",
              "      \n",
              "  <style>\n",
              "    .colab-df-container {\n",
              "      display:flex;\n",
              "      flex-wrap:wrap;\n",
              "      gap: 12px;\n",
              "    }\n",
              "\n",
              "    .colab-df-convert {\n",
              "      background-color: #E8F0FE;\n",
              "      border: none;\n",
              "      border-radius: 50%;\n",
              "      cursor: pointer;\n",
              "      display: none;\n",
              "      fill: #1967D2;\n",
              "      height: 32px;\n",
              "      padding: 0 0 0 0;\n",
              "      width: 32px;\n",
              "    }\n",
              "\n",
              "    .colab-df-convert:hover {\n",
              "      background-color: #E2EBFA;\n",
              "      box-shadow: 0px 1px 2px rgba(60, 64, 67, 0.3), 0px 1px 3px 1px rgba(60, 64, 67, 0.15);\n",
              "      fill: #174EA6;\n",
              "    }\n",
              "\n",
              "    [theme=dark] .colab-df-convert {\n",
              "      background-color: #3B4455;\n",
              "      fill: #D2E3FC;\n",
              "    }\n",
              "\n",
              "    [theme=dark] .colab-df-convert:hover {\n",
              "      background-color: #434B5C;\n",
              "      box-shadow: 0px 1px 3px 1px rgba(0, 0, 0, 0.15);\n",
              "      filter: drop-shadow(0px 1px 2px rgba(0, 0, 0, 0.3));\n",
              "      fill: #FFFFFF;\n",
              "    }\n",
              "  </style>\n",
              "\n",
              "      <script>\n",
              "        const buttonEl =\n",
              "          document.querySelector('#df-a8001d31-4138-4712-8c07-4ab30fe946fa button.colab-df-convert');\n",
              "        buttonEl.style.display =\n",
              "          google.colab.kernel.accessAllowed ? 'block' : 'none';\n",
              "\n",
              "        async function convertToInteractive(key) {\n",
              "          const element = document.querySelector('#df-a8001d31-4138-4712-8c07-4ab30fe946fa');\n",
              "          const dataTable =\n",
              "            await google.colab.kernel.invokeFunction('convertToInteractive',\n",
              "                                                     [key], {});\n",
              "          if (!dataTable) return;\n",
              "\n",
              "          const docLinkHtml = 'Like what you see? Visit the ' +\n",
              "            '<a target=\"_blank\" href=https://colab.research.google.com/notebooks/data_table.ipynb>data table notebook</a>'\n",
              "            + ' to learn more about interactive tables.';\n",
              "          element.innerHTML = '';\n",
              "          dataTable['output_type'] = 'display_data';\n",
              "          await google.colab.output.renderOutput(dataTable, element);\n",
              "          const docLink = document.createElement('div');\n",
              "          docLink.innerHTML = docLinkHtml;\n",
              "          element.appendChild(docLink);\n",
              "        }\n",
              "      </script>\n",
              "    </div>\n",
              "  </div>\n",
              "  "
            ],
            "text/plain": [
              "                 f0         f1        f2  ...         f9       f10       f11\n",
              "0         12.616365  10.059654  8.976429  ...  13.190056  5.300375 -0.168679\n",
              "1         12.616365  10.059654  9.002689  ...  13.190056  5.300375 -0.168679\n",
              "2         12.616365  10.059654  8.964775  ...  13.190056  5.300375 -0.168679\n",
              "3         12.616365  10.059654  9.002801  ...  13.190056  5.300375 -0.168679\n",
              "4         12.616365  10.059654  9.037999  ...  13.190056  5.300375 -0.168679\n",
              "13979587  26.297764  10.059654  9.006250  ...  13.190056  5.300375 -0.168679\n",
              "13979588  12.642207  10.679513  8.214383  ...  13.190056  5.300375 -0.168679\n",
              "13979589  12.976557  10.059654  8.381868  ...  23.570168  6.169187 -0.168679\n",
              "13979590  24.805064  10.059654  8.214383  ...  13.190056  5.300375 -0.168679\n",
              "13979591  12.616365  10.059654  8.214383  ...  13.190056  5.300375 -0.168679\n",
              "\n",
              "[10 rows x 12 columns]"
            ]
          },
          "metadata": {},
          "execution_count": 6
        }
      ],
      "source": [
        "dataset.data.head().append(dataset.data.tail())"
      ]
    },
    {
      "cell_type": "code",
      "execution_count": 7,
      "metadata": {
        "colab": {
          "base_uri": "https://localhost:8080/",
          "height": 364
        },
        "id": "QYTz8wP-7vQ2",
        "outputId": "9b25f58c-5300-400d-eb4b-1e5ef1607f1c"
      },
      "outputs": [
        {
          "output_type": "execute_result",
          "data": {
            "text/html": [
              "\n",
              "  <div id=\"df-3ceff06f-c472-4f2d-8be8-1d42ab4a581b\">\n",
              "    <div class=\"colab-df-container\">\n",
              "      <div>\n",
              "<style scoped>\n",
              "    .dataframe tbody tr th:only-of-type {\n",
              "        vertical-align: middle;\n",
              "    }\n",
              "\n",
              "    .dataframe tbody tr th {\n",
              "        vertical-align: top;\n",
              "    }\n",
              "\n",
              "    .dataframe thead th {\n",
              "        text-align: right;\n",
              "    }\n",
              "</style>\n",
              "<table border=\"1\" class=\"dataframe\">\n",
              "  <thead>\n",
              "    <tr style=\"text-align: right;\">\n",
              "      <th></th>\n",
              "      <th>f0</th>\n",
              "      <th>f1</th>\n",
              "      <th>f2</th>\n",
              "      <th>f3</th>\n",
              "      <th>f4</th>\n",
              "      <th>f5</th>\n",
              "      <th>f6</th>\n",
              "      <th>f7</th>\n",
              "      <th>f8</th>\n",
              "      <th>f9</th>\n",
              "      <th>f10</th>\n",
              "      <th>f11</th>\n",
              "    </tr>\n",
              "  </thead>\n",
              "  <tbody>\n",
              "    <tr>\n",
              "      <th>count</th>\n",
              "      <td>1.397959e+07</td>\n",
              "      <td>1.397959e+07</td>\n",
              "      <td>1.397959e+07</td>\n",
              "      <td>1.397959e+07</td>\n",
              "      <td>1.397959e+07</td>\n",
              "      <td>1.397959e+07</td>\n",
              "      <td>1.397959e+07</td>\n",
              "      <td>1.397959e+07</td>\n",
              "      <td>1.397959e+07</td>\n",
              "      <td>1.397959e+07</td>\n",
              "      <td>1.397959e+07</td>\n",
              "      <td>1.397959e+07</td>\n",
              "    </tr>\n",
              "    <tr>\n",
              "      <th>mean</th>\n",
              "      <td>1.962030e+01</td>\n",
              "      <td>1.006998e+01</td>\n",
              "      <td>8.446582e+00</td>\n",
              "      <td>4.178923e+00</td>\n",
              "      <td>1.033884e+01</td>\n",
              "      <td>4.028513e+00</td>\n",
              "      <td>-4.155356e+00</td>\n",
              "      <td>5.101765e+00</td>\n",
              "      <td>3.933581e+00</td>\n",
              "      <td>1.602764e+01</td>\n",
              "      <td>5.333396e+00</td>\n",
              "      <td>-1.709672e-01</td>\n",
              "    </tr>\n",
              "    <tr>\n",
              "      <th>std</th>\n",
              "      <td>5.377464e+00</td>\n",
              "      <td>1.047557e-01</td>\n",
              "      <td>2.993161e-01</td>\n",
              "      <td>1.336645e+00</td>\n",
              "      <td>3.433081e-01</td>\n",
              "      <td>4.310974e-01</td>\n",
              "      <td>4.577914e+00</td>\n",
              "      <td>1.205248e+00</td>\n",
              "      <td>5.665958e-02</td>\n",
              "      <td>7.018975e+00</td>\n",
              "      <td>1.682288e-01</td>\n",
              "      <td>2.283277e-02</td>\n",
              "    </tr>\n",
              "    <tr>\n",
              "      <th>min</th>\n",
              "      <td>1.261636e+01</td>\n",
              "      <td>1.005965e+01</td>\n",
              "      <td>8.214383e+00</td>\n",
              "      <td>-8.398387e+00</td>\n",
              "      <td>1.028053e+01</td>\n",
              "      <td>-9.011892e+00</td>\n",
              "      <td>-3.142978e+01</td>\n",
              "      <td>4.833815e+00</td>\n",
              "      <td>3.635107e+00</td>\n",
              "      <td>1.319006e+01</td>\n",
              "      <td>5.300375e+00</td>\n",
              "      <td>-1.383941e+00</td>\n",
              "    </tr>\n",
              "    <tr>\n",
              "      <th>25%</th>\n",
              "      <td>1.261636e+01</td>\n",
              "      <td>1.005965e+01</td>\n",
              "      <td>8.214383e+00</td>\n",
              "      <td>4.679882e+00</td>\n",
              "      <td>1.028053e+01</td>\n",
              "      <td>4.115453e+00</td>\n",
              "      <td>-6.699321e+00</td>\n",
              "      <td>4.833815e+00</td>\n",
              "      <td>3.910792e+00</td>\n",
              "      <td>1.319006e+01</td>\n",
              "      <td>5.300375e+00</td>\n",
              "      <td>-1.686792e-01</td>\n",
              "    </tr>\n",
              "    <tr>\n",
              "      <th>50%</th>\n",
              "      <td>2.192341e+01</td>\n",
              "      <td>1.005965e+01</td>\n",
              "      <td>8.214383e+00</td>\n",
              "      <td>4.679882e+00</td>\n",
              "      <td>1.028053e+01</td>\n",
              "      <td>4.115453e+00</td>\n",
              "      <td>-2.411115e+00</td>\n",
              "      <td>4.833815e+00</td>\n",
              "      <td>3.971858e+00</td>\n",
              "      <td>1.319006e+01</td>\n",
              "      <td>5.300375e+00</td>\n",
              "      <td>-1.686792e-01</td>\n",
              "    </tr>\n",
              "    <tr>\n",
              "      <th>75%</th>\n",
              "      <td>2.443646e+01</td>\n",
              "      <td>1.005965e+01</td>\n",
              "      <td>8.723335e+00</td>\n",
              "      <td>4.679882e+00</td>\n",
              "      <td>1.028053e+01</td>\n",
              "      <td>4.115453e+00</td>\n",
              "      <td>2.944427e-01</td>\n",
              "      <td>4.833815e+00</td>\n",
              "      <td>3.971858e+00</td>\n",
              "      <td>1.319006e+01</td>\n",
              "      <td>5.300375e+00</td>\n",
              "      <td>-1.686792e-01</td>\n",
              "    </tr>\n",
              "    <tr>\n",
              "      <th>max</th>\n",
              "      <td>2.674526e+01</td>\n",
              "      <td>1.634419e+01</td>\n",
              "      <td>9.051962e+00</td>\n",
              "      <td>4.679882e+00</td>\n",
              "      <td>2.112351e+01</td>\n",
              "      <td>4.115453e+00</td>\n",
              "      <td>2.944427e-01</td>\n",
              "      <td>1.199840e+01</td>\n",
              "      <td>3.971858e+00</td>\n",
              "      <td>7.529502e+01</td>\n",
              "      <td>6.473917e+00</td>\n",
              "      <td>-1.686792e-01</td>\n",
              "    </tr>\n",
              "  </tbody>\n",
              "</table>\n",
              "</div>\n",
              "      <button class=\"colab-df-convert\" onclick=\"convertToInteractive('df-3ceff06f-c472-4f2d-8be8-1d42ab4a581b')\"\n",
              "              title=\"Convert this dataframe to an interactive table.\"\n",
              "              style=\"display:none;\">\n",
              "        \n",
              "  <svg xmlns=\"http://www.w3.org/2000/svg\" height=\"24px\"viewBox=\"0 0 24 24\"\n",
              "       width=\"24px\">\n",
              "    <path d=\"M0 0h24v24H0V0z\" fill=\"none\"/>\n",
              "    <path d=\"M18.56 5.44l.94 2.06.94-2.06 2.06-.94-2.06-.94-.94-2.06-.94 2.06-2.06.94zm-11 1L8.5 8.5l.94-2.06 2.06-.94-2.06-.94L8.5 2.5l-.94 2.06-2.06.94zm10 10l.94 2.06.94-2.06 2.06-.94-2.06-.94-.94-2.06-.94 2.06-2.06.94z\"/><path d=\"M17.41 7.96l-1.37-1.37c-.4-.4-.92-.59-1.43-.59-.52 0-1.04.2-1.43.59L10.3 9.45l-7.72 7.72c-.78.78-.78 2.05 0 2.83L4 21.41c.39.39.9.59 1.41.59.51 0 1.02-.2 1.41-.59l7.78-7.78 2.81-2.81c.8-.78.8-2.07 0-2.86zM5.41 20L4 18.59l7.72-7.72 1.47 1.35L5.41 20z\"/>\n",
              "  </svg>\n",
              "      </button>\n",
              "      \n",
              "  <style>\n",
              "    .colab-df-container {\n",
              "      display:flex;\n",
              "      flex-wrap:wrap;\n",
              "      gap: 12px;\n",
              "    }\n",
              "\n",
              "    .colab-df-convert {\n",
              "      background-color: #E8F0FE;\n",
              "      border: none;\n",
              "      border-radius: 50%;\n",
              "      cursor: pointer;\n",
              "      display: none;\n",
              "      fill: #1967D2;\n",
              "      height: 32px;\n",
              "      padding: 0 0 0 0;\n",
              "      width: 32px;\n",
              "    }\n",
              "\n",
              "    .colab-df-convert:hover {\n",
              "      background-color: #E2EBFA;\n",
              "      box-shadow: 0px 1px 2px rgba(60, 64, 67, 0.3), 0px 1px 3px 1px rgba(60, 64, 67, 0.15);\n",
              "      fill: #174EA6;\n",
              "    }\n",
              "\n",
              "    [theme=dark] .colab-df-convert {\n",
              "      background-color: #3B4455;\n",
              "      fill: #D2E3FC;\n",
              "    }\n",
              "\n",
              "    [theme=dark] .colab-df-convert:hover {\n",
              "      background-color: #434B5C;\n",
              "      box-shadow: 0px 1px 3px 1px rgba(0, 0, 0, 0.15);\n",
              "      filter: drop-shadow(0px 1px 2px rgba(0, 0, 0, 0.3));\n",
              "      fill: #FFFFFF;\n",
              "    }\n",
              "  </style>\n",
              "\n",
              "      <script>\n",
              "        const buttonEl =\n",
              "          document.querySelector('#df-3ceff06f-c472-4f2d-8be8-1d42ab4a581b button.colab-df-convert');\n",
              "        buttonEl.style.display =\n",
              "          google.colab.kernel.accessAllowed ? 'block' : 'none';\n",
              "\n",
              "        async function convertToInteractive(key) {\n",
              "          const element = document.querySelector('#df-3ceff06f-c472-4f2d-8be8-1d42ab4a581b');\n",
              "          const dataTable =\n",
              "            await google.colab.kernel.invokeFunction('convertToInteractive',\n",
              "                                                     [key], {});\n",
              "          if (!dataTable) return;\n",
              "\n",
              "          const docLinkHtml = 'Like what you see? Visit the ' +\n",
              "            '<a target=\"_blank\" href=https://colab.research.google.com/notebooks/data_table.ipynb>data table notebook</a>'\n",
              "            + ' to learn more about interactive tables.';\n",
              "          element.innerHTML = '';\n",
              "          dataTable['output_type'] = 'display_data';\n",
              "          await google.colab.output.renderOutput(dataTable, element);\n",
              "          const docLink = document.createElement('div');\n",
              "          docLink.innerHTML = docLinkHtml;\n",
              "          element.appendChild(docLink);\n",
              "        }\n",
              "      </script>\n",
              "    </div>\n",
              "  </div>\n",
              "  "
            ],
            "text/plain": [
              "                 f0            f1  ...           f10           f11\n",
              "count  1.397959e+07  1.397959e+07  ...  1.397959e+07  1.397959e+07\n",
              "mean   1.962030e+01  1.006998e+01  ...  5.333396e+00 -1.709672e-01\n",
              "std    5.377464e+00  1.047557e-01  ...  1.682288e-01  2.283277e-02\n",
              "min    1.261636e+01  1.005965e+01  ...  5.300375e+00 -1.383941e+00\n",
              "25%    1.261636e+01  1.005965e+01  ...  5.300375e+00 -1.686792e-01\n",
              "50%    2.192341e+01  1.005965e+01  ...  5.300375e+00 -1.686792e-01\n",
              "75%    2.443646e+01  1.005965e+01  ...  5.300375e+00 -1.686792e-01\n",
              "max    2.674526e+01  1.634419e+01  ...  6.473917e+00 -1.686792e-01\n",
              "\n",
              "[8 rows x 12 columns]"
            ]
          },
          "metadata": {},
          "execution_count": 7
        }
      ],
      "source": [
        "dataset.data.describe()"
      ]
    },
    {
      "cell_type": "code",
      "execution_count": 8,
      "metadata": {
        "colab": {
          "base_uri": "https://localhost:8080/"
        },
        "id": "ie_22mtj7vQ7",
        "outputId": "d67314e5-ce52-4d53-ddd9-825c95ee71c8"
      },
      "outputs": [
        {
          "output_type": "stream",
          "name": "stdout",
          "text": [
            "Number NA: 0\n"
          ]
        }
      ],
      "source": [
        "print('Number NA:', dataset.data.isna().sum().sum())"
      ]
    },
    {
      "cell_type": "markdown",
      "metadata": {
        "id": "6-ozDDzH7vQ_"
      },
      "source": [
        "Some notes:\n",
        "\n",
        "- There are 12 columns in the dataset\n",
        "- All feature values are float\n",
        "- There are no missing values in data."
      ]
    },
    {
      "cell_type": "markdown",
      "metadata": {
        "id": "kxExWI797vRA"
      },
      "source": [
        "###  Target and treatment "
      ]
    },
    {
      "cell_type": "markdown",
      "metadata": {
        "id": "PUgqfWZ47vRC"
      },
      "source": [
        "Also take a look at target and treatment."
      ]
    },
    {
      "cell_type": "code",
      "execution_count": 9,
      "metadata": {
        "colab": {
          "base_uri": "https://localhost:8080/",
          "height": 307
        },
        "id": "sQWfkUp17vRC",
        "outputId": "7471a226-1d12-4cbc-f9ca-7b894effc4e0"
      },
      "outputs": [
        {
          "output_type": "execute_result",
          "data": {
            "text/plain": [
              "<matplotlib.axes._subplots.AxesSubplot at 0x7ff1b45a3050>"
            ]
          },
          "metadata": {},
          "execution_count": 9
        },
        {
          "output_type": "display_data",
          "data": {
            "image/png": "[encoded data removed]",
            "text/plain": [
              "<Figure size 432x288 with 1 Axes>"
            ]
          },
          "metadata": {
            "needs_background": "light"
          }
        }
      ],
      "source": [
        "sns.countplot(x=dataset.treatment)"
      ]
    },
    {
      "cell_type": "code",
      "execution_count": 10,
      "metadata": {
        "colab": {
          "base_uri": "https://localhost:8080/"
        },
        "id": "qWeB0O767vRD",
        "outputId": "8167348d-d734-4269-e7eb-95c1d092c7db"
      },
      "outputs": [
        {
          "output_type": "execute_result",
          "data": {
            "text/plain": [
              "1    11882655\n",
              "0     2096937\n",
              "Name: treatment, dtype: Int64"
            ]
          },
          "metadata": {},
          "execution_count": 10
        }
      ],
      "source": [
        "dataset.treatment.value_counts()"
      ]
    },
    {
      "cell_type": "code",
      "execution_count": 11,
      "metadata": {
        "colab": {
          "base_uri": "https://localhost:8080/",
          "height": 307
        },
        "id": "BOgJo4bG7vRE",
        "outputId": "21a17b9e-e5af-4f51-c0bd-30360927b15d"
      },
      "outputs": [
        {
          "output_type": "execute_result",
          "data": {
            "text/plain": [
              "<matplotlib.axes._subplots.AxesSubplot at 0x7ff1b4004e90>"
            ]
          },
          "metadata": {},
          "execution_count": 11
        },
        {
          "output_type": "display_data",
          "data": {
            "image/png": "[encoded data removed]",
            "text/plain": [
              "<Figure size 432x288 with 1 Axes>"
            ]
          },
          "metadata": {
            "needs_background": "light"
          }
        }
      ],
      "source": [
        "sns.countplot(x=dataset.target)"
      ]
    },
    {
      "cell_type": "code",
      "execution_count": 12,
      "metadata": {
        "colab": {
          "base_uri": "https://localhost:8080/"
        },
        "id": "VIBmyaWy7vRG",
        "outputId": "5ec95ad0-6b3a-48b4-b21a-05d93d6e5c94"
      },
      "outputs": [
        {
          "output_type": "execute_result",
          "data": {
            "text/plain": [
              "0    13322663\n",
              "1      656929\n",
              "Name: visit, dtype: Int64"
            ]
          },
          "metadata": {},
          "execution_count": 12
        }
      ],
      "source": [
        "dataset.target.value_counts()"
      ]
    },
    {
      "cell_type": "code",
      "execution_count": 13,
      "metadata": {
        "colab": {
          "base_uri": "https://localhost:8080/",
          "height": 143
        },
        "id": "n471zAf37vRH",
        "outputId": "3e73f76f-dbee-4c72-d014-47acc495cc06"
      },
      "outputs": [
        {
          "output_type": "execute_result",
          "data": {
            "text/html": [
              "\n",
              "  <div id=\"df-a8595337-3a48-456e-ba99-6b734a645f29\">\n",
              "    <div class=\"colab-df-container\">\n",
              "      <div>\n",
              "<style scoped>\n",
              "    .dataframe tbody tr th:only-of-type {\n",
              "        vertical-align: middle;\n",
              "    }\n",
              "\n",
              "    .dataframe tbody tr th {\n",
              "        vertical-align: top;\n",
              "    }\n",
              "\n",
              "    .dataframe thead th {\n",
              "        text-align: right;\n",
              "    }\n",
              "</style>\n",
              "<table border=\"1\" class=\"dataframe\">\n",
              "  <thead>\n",
              "    <tr style=\"text-align: right;\">\n",
              "      <th>visit</th>\n",
              "      <th>0</th>\n",
              "      <th>1</th>\n",
              "    </tr>\n",
              "    <tr>\n",
              "      <th>treatment</th>\n",
              "      <th></th>\n",
              "      <th></th>\n",
              "    </tr>\n",
              "  </thead>\n",
              "  <tbody>\n",
              "    <tr>\n",
              "      <th>0</th>\n",
              "      <td>0.961799</td>\n",
              "      <td>0.038201</td>\n",
              "    </tr>\n",
              "    <tr>\n",
              "      <th>1</th>\n",
              "      <td>0.951457</td>\n",
              "      <td>0.048543</td>\n",
              "    </tr>\n",
              "  </tbody>\n",
              "</table>\n",
              "</div>\n",
              "      <button class=\"colab-df-convert\" onclick=\"convertToInteractive('df-a8595337-3a48-456e-ba99-6b734a645f29')\"\n",
              "              title=\"Convert this dataframe to an interactive table.\"\n",
              "              style=\"display:none;\">\n",
              "        \n",
              "  <svg xmlns=\"http://www.w3.org/2000/svg\" height=\"24px\"viewBox=\"0 0 24 24\"\n",
              "       width=\"24px\">\n",
              "    <path d=\"M0 0h24v24H0V0z\" fill=\"none\"/>\n",
              "    <path d=\"M18.56 5.44l.94 2.06.94-2.06 2.06-.94-2.06-.94-.94-2.06-.94 2.06-2.06.94zm-11 1L8.5 8.5l.94-2.06 2.06-.94-2.06-.94L8.5 2.5l-.94 2.06-2.06.94zm10 10l.94 2.06.94-2.06 2.06-.94-2.06-.94-.94-2.06-.94 2.06-2.06.94z\"/><path d=\"M17.41 7.96l-1.37-1.37c-.4-.4-.92-.59-1.43-.59-.52 0-1.04.2-1.43.59L10.3 9.45l-7.72 7.72c-.78.78-.78 2.05 0 2.83L4 21.41c.39.39.9.59 1.41.59.51 0 1.02-.2 1.41-.59l7.78-7.78 2.81-2.81c.8-.78.8-2.07 0-2.86zM5.41 20L4 18.59l7.72-7.72 1.47 1.35L5.41 20z\"/>\n",
              "  </svg>\n",
              "      </button>\n",
              "      \n",
              "  <style>\n",
              "    .colab-df-container {\n",
              "      display:flex;\n",
              "      flex-wrap:wrap;\n",
              "      gap: 12px;\n",
              "    }\n",
              "\n",
              "    .colab-df-convert {\n",
              "      background-color: #E8F0FE;\n",
              "      border: none;\n",
              "      border-radius: 50%;\n",
              "      cursor: pointer;\n",
              "      display: none;\n",
              "      fill: #1967D2;\n",
              "      height: 32px;\n",
              "      padding: 0 0 0 0;\n",
              "      width: 32px;\n",
              "    }\n",
              "\n",
              "    .colab-df-convert:hover {\n",
              "      background-color: #E2EBFA;\n",
              "      box-shadow: 0px 1px 2px rgba(60, 64, 67, 0.3), 0px 1px 3px 1px rgba(60, 64, 67, 0.15);\n",
              "      fill: #174EA6;\n",
              "    }\n",
              "\n",
              "    [theme=dark] .colab-df-convert {\n",
              "      background-color: #3B4455;\n",
              "      fill: #D2E3FC;\n",
              "    }\n",
              "\n",
              "    [theme=dark] .colab-df-convert:hover {\n",
              "      background-color: #434B5C;\n",
              "      box-shadow: 0px 1px 3px 1px rgba(0, 0, 0, 0.15);\n",
              "      filter: drop-shadow(0px 1px 2px rgba(0, 0, 0, 0.3));\n",
              "      fill: #FFFFFF;\n",
              "    }\n",
              "  </style>\n",
              "\n",
              "      <script>\n",
              "        const buttonEl =\n",
              "          document.querySelector('#df-a8595337-3a48-456e-ba99-6b734a645f29 button.colab-df-convert');\n",
              "        buttonEl.style.display =\n",
              "          google.colab.kernel.accessAllowed ? 'block' : 'none';\n",
              "\n",
              "        async function convertToInteractive(key) {\n",
              "          const element = document.querySelector('#df-a8595337-3a48-456e-ba99-6b734a645f29');\n",
              "          const dataTable =\n",
              "            await google.colab.kernel.invokeFunction('convertToInteractive',\n",
              "                                                     [key], {});\n",
              "          if (!dataTable) return;\n",
              "\n",
              "          const docLinkHtml = 'Like what you see? Visit the ' +\n",
              "            '<a target=\"_blank\" href=https://colab.research.google.com/notebooks/data_table.ipynb>data table notebook</a>'\n",
              "            + ' to learn more about interactive tables.';\n",
              "          element.innerHTML = '';\n",
              "          dataTable['output_type'] = 'display_data';\n",
              "          await google.colab.output.renderOutput(dataTable, element);\n",
              "          const docLink = document.createElement('div');\n",
              "          docLink.innerHTML = docLinkHtml;\n",
              "          element.appendChild(docLink);\n",
              "        }\n",
              "      </script>\n",
              "    </div>\n",
              "  </div>\n",
              "  "
            ],
            "text/plain": [
              "visit             0         1\n",
              "treatment                    \n",
              "0          0.961799  0.038201\n",
              "1          0.951457  0.048543"
            ]
          },
          "metadata": {},
          "execution_count": 13
        }
      ],
      "source": [
        "pd.crosstab(dataset.treatment, dataset.target, normalize='index')"
      ]
    },
    {
      "cell_type": "markdown",
      "metadata": {
        "id": "Wxc9rVdf7vRI"
      },
      "source": [
        "Just note that the target and treatment groups are not balanced."
      ]
    },
    {
      "cell_type": "markdown",
      "metadata": {
        "id": "rQ_pu9_W7vRJ"
      },
      "source": [
        "### Simple baseline"
      ]
    },
    {
      "cell_type": "markdown",
      "metadata": {
        "id": "vOxSIODG7vRL"
      },
      "source": [
        "Optimizing the size of the dataset for low memory environment."
      ]
    },
    {
      "cell_type": "code",
      "execution_count": 14,
      "metadata": {
        "id": "Exk0Wmcs7vRM"
      },
      "outputs": [],
      "source": [
        "for c in dataset.data.columns:\n",
        "    dataset.data[c] = pd.to_numeric(dataset.data[c], downcast='float')"
      ]
    },
    {
      "cell_type": "code",
      "execution_count": 15,
      "metadata": {
        "id": "nVX5HICR7vRN"
      },
      "outputs": [],
      "source": [
        "dataset.treatment = dataset.treatment.astype('int8')\n",
        "dataset.target = dataset.target.astype('int8')"
      ]
    },
    {
      "cell_type": "markdown",
      "metadata": {
        "id": "uw3Z3HuT7vRN"
      },
      "source": [
        "In a binary classification problem definition we stratify train set by splitting target `0/1` column. In uplift modeling we have two columns instead of one. "
      ]
    },
    {
      "cell_type": "code",
      "execution_count": 16,
      "metadata": {
        "colab": {
          "base_uri": "https://localhost:8080/"
        },
        "id": "Yo867-AO7vRO",
        "outputId": "7cdef0ea-171e-442c-8c2f-5b923bb0d402"
      },
      "outputs": [
        {
          "output_type": "stream",
          "name": "stdout",
          "text": [
            "Train shape: (9785714, 12)\n",
            "Validation shape: (4193878, 12)\n"
          ]
        }
      ],
      "source": [
        "stratify_cols = pd.concat([dataset.treatment, dataset.target], axis=1)\n",
        "\n",
        "X_train, X_val, trmnt_train, trmnt_val, y_train, y_val = train_test_split(\n",
        "    dataset.data,\n",
        "    dataset.treatment,\n",
        "    dataset.target,\n",
        "    stratify=stratify_cols,\n",
        "    test_size=0.3,\n",
        "    random_state=31\n",
        ")\n",
        "\n",
        "print(f\"Train shape: {X_train.shape}\")\n",
        "print(f\"Validation shape: {X_val.shape}\")"
      ]
    },
    {
      "cell_type": "code",
      "execution_count": 17,
      "metadata": {
        "id": "19GQiY8D7vRQ"
      },
      "outputs": [],
      "source": [
        "treatment_model = lgb.LGBMClassifier(random_state=31)\n",
        "control_model = lgb.LGBMClassifier(random_state=31)\n",
        "tm = TwoModels(estimator_trmnt = treatment_model, estimator_ctrl = control_model, method='vanilla')\n"
      ]
    },
    {
      "cell_type": "code",
      "execution_count": 18,
      "metadata": {
        "id": "M9y2n_LR7vRT"
      },
      "outputs": [],
      "source": [
        "tm = tm.fit(X_train, y_train, trmnt_train)"
      ]
    },
    {
      "cell_type": "code",
      "execution_count": 19,
      "metadata": {
        "id": "p8o4qENg7vRW"
      },
      "outputs": [],
      "source": [
        "uplift_tm = tm.predict(X_val)"
      ]
    },
    {
      "cell_type": "code",
      "execution_count": 20,
      "metadata": {
        "colab": {
          "base_uri": "https://localhost:8080/"
        },
        "id": "8dPYQdCK7vRa",
        "outputId": "a0f9a9ce-5cc3-4337-adac-4b6249d3114d"
      },
      "outputs": [
        {
          "output_type": "stream",
          "name": "stdout",
          "text": [
            "Qini coefficient on full data: 0.0836\n"
          ]
        }
      ],
      "source": [
        "# AUQC = area under Qini curve = Qini coefficient\n",
        "auqc = qini_auc_score(y_val, uplift_tm, trmnt_val) \n",
        "print(f\"Qini coefficient on full data: {auqc:.4f}\")"
      ]
    },
    {
      "cell_type": "code",
      "execution_count": 21,
      "metadata": {
        "colab": {
          "base_uri": "https://localhost:8080/",
          "height": 279
        },
        "id": "ja8V6oaX7vRb",
        "outputId": "f1108992-e589-451f-d35f-8d1e4ed29bde"
      },
      "outputs": [
        {
          "output_type": "display_data",
          "data": {
            "image/png": "[encoded data removed]",
            "text/plain": [
              "<Figure size 432x288 with 1 Axes>"
            ]
          },
          "metadata": {
            "needs_background": "light"
          }
        }
      ],
      "source": [
        "# with ideal Qini curve (red line)\n",
        "# perfect=True\n",
        "\n",
        "plot_qini_curve(y_val, uplift_tm, trmnt_val, perfect=True);"
      ]
    }
  ],
  "metadata": {
    "kernelspec": {
      "display_name": "Python 3",
      "language": "python",
      "name": "python3"
    },
    "language_info": {
      "codemirror_mode": {
        "name": "ipython",
        "version": 3
      },
      "file_extension": ".py",
      "mimetype": "text/x-python",
      "name": "python",
      "nbconvert_exporter": "python",
      "pygments_lexer": "ipython3",
      "version": "3.7.6"
    },
    "colab": {
      "name": "EDA_Criteo_dataset.ipynb",
      "provenance": []
    },
    "widgets": {
      "application/vnd.jupyter.widget-state+json": {
        "1dcb239049ff4b9680ba82f6f4566463": {
          "model_module": "@jupyter-widgets/controls",
          "model_name": "HBoxModel",
          "model_module_version": "1.5.0",
          "state": {
            "_view_name": "HBoxView",
            "_dom_classes": [],
            "_model_name": "HBoxModel",
            "_view_module": "@jupyter-widgets/controls",
            "_model_module_version": "1.5.0",
            "_view_count": null,
            "_view_module_version": "1.5.0",
            "box_style": "",
            "layout": "IPY_MODEL_625fe8590815480790048e9581615a2c",
            "_model_module": "@jupyter-widgets/controls",
            "children": [
              "IPY_MODEL_15be03ecd3c54a249a8891da8becdd4d",
              "IPY_MODEL_b8d8623df9d443dcb208ed36fe78266a",
              "IPY_MODEL_bc0288bee669404a84706ec91127ad27"
            ]
          }
        },
        "625fe8590815480790048e9581615a2c": {
          "model_module": "@jupyter-widgets/base",
          "model_name": "LayoutModel",
          "model_module_version": "1.2.0",
          "state": {
            "_view_name": "LayoutView",
            "grid_template_rows": null,
            "right": null,
            "justify_content": null,
            "_view_module": "@jupyter-widgets/base",
            "overflow": null,
            "_model_module_version": "1.2.0",
            "_view_count": null,
            "flex_flow": null,
            "width": null,
            "min_width": null,
            "border": null,
            "align_items": null,
            "bottom": null,
            "_model_module": "@jupyter-widgets/base",
            "top": null,
            "grid_column": null,
            "overflow_y": null,
            "overflow_x": null,
            "grid_auto_flow": null,
            "grid_area": null,
            "grid_template_columns": null,
            "flex": null,
            "_model_name": "LayoutModel",
            "justify_items": null,
            "grid_row": null,
            "max_height": null,
            "align_content": null,
            "visibility": null,
            "align_self": null,
            "height": null,
            "min_height": null,
            "padding": null,
            "grid_auto_rows": null,
            "grid_gap": null,
            "max_width": null,
            "order": null,
            "_view_module_version": "1.2.0",
            "grid_template_areas": null,
            "object_position": null,
            "object_fit": null,
            "grid_auto_columns": null,
            "margin": null,
            "display": null,
            "left": null
          }
        },
        "15be03ecd3c54a249a8891da8becdd4d": {
          "model_module": "@jupyter-widgets/controls",
          "model_name": "HTMLModel",
          "model_module_version": "1.5.0",
          "state": {
            "_view_name": "HTMLView",
            "style": "IPY_MODEL_08737d33f8664c799cd94d7f7e081c3a",
            "_dom_classes": [],
            "description": "",
            "_model_name": "HTMLModel",
            "placeholder": "​",
            "_view_module": "@jupyter-widgets/controls",
            "_model_module_version": "1.5.0",
            "value": "100%",
            "_view_count": null,
            "_view_module_version": "1.5.0",
            "description_tooltip": null,
            "_model_module": "@jupyter-widgets/controls",
            "layout": "IPY_MODEL_412f1906658f45de9b1e9409e0429607"
          }
        },
        "b8d8623df9d443dcb208ed36fe78266a": {
          "model_module": "@jupyter-widgets/controls",
          "model_name": "FloatProgressModel",
          "model_module_version": "1.5.0",
          "state": {
            "_view_name": "ProgressView",
            "style": "IPY_MODEL_90988d0230444121b9f9839cfc8b9564",
            "_dom_classes": [],
            "description": "",
            "_model_name": "FloatProgressModel",
            "bar_style": "",
            "max": 311422618,
            "_view_module": "@jupyter-widgets/controls",
            "_model_module_version": "1.5.0",
            "value": 311422618,
            "_view_count": null,
            "_view_module_version": "1.5.0",
            "orientation": "horizontal",
            "min": 0,
            "description_tooltip": null,
            "_model_module": "@jupyter-widgets/controls",
            "layout": "IPY_MODEL_eb17b3512f6f45afb8af7c310fee716b"
          }
        },
        "bc0288bee669404a84706ec91127ad27": {
          "model_module": "@jupyter-widgets/controls",
          "model_name": "HTMLModel",
          "model_module_version": "1.5.0",
          "state": {
            "_view_name": "HTMLView",
            "style": "IPY_MODEL_5df728c17ecc4998b469f2e4dc5b1006",
            "_dom_classes": [],
            "description": "",
            "_model_name": "HTMLModel",
            "placeholder": "​",
            "_view_module": "@jupyter-widgets/controls",
            "_model_module_version": "1.5.0",
            "value": " 311M/311M [00:20&lt;00:00, 73.7MiB/s]",
            "_view_count": null,
            "_view_module_version": "1.5.0",
            "description_tooltip": null,
            "_model_module": "@jupyter-widgets/controls",
            "layout": "IPY_MODEL_26641090b28f4b47b7c6c0aacf0ad80f"
          }
        },
        "08737d33f8664c799cd94d7f7e081c3a": {
          "model_module": "@jupyter-widgets/controls",
          "model_name": "DescriptionStyleModel",
          "model_module_version": "1.5.0",
          "state": {
            "_view_name": "StyleView",
            "_model_name": "DescriptionStyleModel",
            "description_width": "",
            "_view_module": "@jupyter-widgets/base",
            "_model_module_version": "1.5.0",
            "_view_count": null,
            "_view_module_version": "1.2.0",
            "_model_module": "@jupyter-widgets/controls"
          }
        },
        "412f1906658f45de9b1e9409e0429607": {
          "model_module": "@jupyter-widgets/base",
          "model_name": "LayoutModel",
          "model_module_version": "1.2.0",
          "state": {
            "_view_name": "LayoutView",
            "grid_template_rows": null,
            "right": null,
            "justify_content": null,
            "_view_module": "@jupyter-widgets/base",
            "overflow": null,
            "_model_module_version": "1.2.0",
            "_view_count": null,
            "flex_flow": null,
            "width": null,
            "min_width": null,
            "border": null,
            "align_items": null,
            "bottom": null,
            "_model_module": "@jupyter-widgets/base",
            "top": null,
            "grid_column": null,
            "overflow_y": null,
            "overflow_x": null,
            "grid_auto_flow": null,
            "grid_area": null,
            "grid_template_columns": null,
            "flex": null,
            "_model_name": "LayoutModel",
            "justify_items": null,
            "grid_row": null,
            "max_height": null,
            "align_content": null,
            "visibility": null,
            "align_self": null,
            "height": null,
            "min_height": null,
            "padding": null,
            "grid_auto_rows": null,
            "grid_gap": null,
            "max_width": null,
            "order": null,
            "_view_module_version": "1.2.0",
            "grid_template_areas": null,
            "object_position": null,
            "object_fit": null,
            "grid_auto_columns": null,
            "margin": null,
            "display": null,
            "left": null
          }
        },
        "90988d0230444121b9f9839cfc8b9564": {
          "model_module": "@jupyter-widgets/controls",
          "model_name": "ProgressStyleModel",
          "model_module_version": "1.5.0",
          "state": {
            "_view_name": "StyleView",
            "_model_name": "ProgressStyleModel",
            "description_width": "",
            "_view_module": "@jupyter-widgets/base",
            "_model_module_version": "1.5.0",
            "_view_count": null,
            "_view_module_version": "1.2.0",
            "bar_color": null,
            "_model_module": "@jupyter-widgets/controls"
          }
        },
        "eb17b3512f6f45afb8af7c310fee716b": {
          "model_module": "@jupyter-widgets/base",
          "model_name": "LayoutModel",
          "model_module_version": "1.2.0",
          "state": {
            "_view_name": "LayoutView",
            "grid_template_rows": null,
            "right": null,
            "justify_content": null,
            "_view_module": "@jupyter-widgets/base",
            "overflow": null,
            "_model_module_version": "1.2.0",
            "_view_count": null,
            "flex_flow": null,
            "width": null,
            "min_width": null,
            "border": null,
            "align_items": null,
            "bottom": null,
            "_model_module": "@jupyter-widgets/base",
            "top": null,
            "grid_column": null,
            "overflow_y": null,
            "overflow_x": null,
            "grid_auto_flow": null,
            "grid_area": null,
            "grid_template_columns": null,
            "flex": null,
            "_model_name": "LayoutModel",
            "justify_items": null,
            "grid_row": null,
            "max_height": null,
            "align_content": null,
            "visibility": null,
            "align_self": null,
            "height": null,
            "min_height": null,
            "padding": null,
            "grid_auto_rows": null,
            "grid_gap": null,
            "max_width": null,
            "order": null,
            "_view_module_version": "1.2.0",
            "grid_template_areas": null,
            "object_position": null,
            "object_fit": null,
            "grid_auto_columns": null,
            "margin": null,
            "display": null,
            "left": null
          }
        },
        "5df728c17ecc4998b469f2e4dc5b1006": {
          "model_module": "@jupyter-widgets/controls",
          "model_name": "DescriptionStyleModel",
          "model_module_version": "1.5.0",
          "state": {
            "_view_name": "StyleView",
            "_model_name": "DescriptionStyleModel",
            "description_width": "",
            "_view_module": "@jupyter-widgets/base",
            "_model_module_version": "1.5.0",
            "_view_count": null,
            "_view_module_version": "1.2.0",
            "_model_module": "@jupyter-widgets/controls"
          }
        },
        "26641090b28f4b47b7c6c0aacf0ad80f": {
          "model_module": "@jupyter-widgets/base",
          "model_name": "LayoutModel",
          "model_module_version": "1.2.0",
          "state": {
            "_view_name": "LayoutView",
            "grid_template_rows": null,
            "right": null,
            "justify_content": null,
            "_view_module": "@jupyter-widgets/base",
            "overflow": null,
            "_model_module_version": "1.2.0",
            "_view_count": null,
            "flex_flow": null,
            "width": null,
            "min_width": null,
            "border": null,
            "align_items": null,
            "bottom": null,
            "_model_module": "@jupyter-widgets/base",
            "top": null,
            "grid_column": null,
            "overflow_y": null,
            "overflow_x": null,
            "grid_auto_flow": null,
            "grid_area": null,
            "grid_template_columns": null,
            "flex": null,
            "_model_name": "LayoutModel",
            "justify_items": null,
            "grid_row": null,
            "max_height": null,
            "align_content": null,
            "visibility": null,
            "align_self": null,
            "height": null,
            "min_height": null,
            "padding": null,
            "grid_auto_rows": null,
            "grid_gap": null,
            "max_width": null,
            "order": null,
            "_view_module_version": "1.2.0",
            "grid_template_areas": null,
            "object_position": null,
            "object_fit": null,
            "grid_auto_columns": null,
            "margin": null,
            "display": null,
            "left": null
          }
        }
      }
    }
  },
  "nbformat": 4,
  "nbformat_minor": 0
}